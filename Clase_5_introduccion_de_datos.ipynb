{
  "cells": [
    {
      "cell_type": "markdown",
      "metadata": {
        "id": "view-in-github",
        "colab_type": "text"
      },
      "source": [
        "<a href=\"https://colab.research.google.com/github/laura-rubio213/introduccion-de-ingieneria/blob/main/Clase_5_introduccion_de_datos.ipynb\" target=\"_parent\"><img src=\"https://colab.research.google.com/assets/colab-badge.svg\" alt=\"Open In Colab\"/></a>"
      ]
    },
    {
      "cell_type": "code",
      "source": [
        "print(2**10); # potencia\n",
        "print(2*10); # multiplicación\n",
        "print(40%2); # operador modulo es el resudio de la division\n",
        "print(1 + 2 * 5);\n",
        "print((1 + 2)* 5);\n",
        "# operaciones con numeros imaginarios\n",
        "print((3 + 4j) + (2 + 5j));\n",
        "print((3 + 4j) / (4 + 5j));"
      ],
      "metadata": {
        "colab": {
          "base_uri": "https://localhost:8080/"
        },
        "id": "dzOjIazw_UWs",
        "outputId": "c587cf58-c8c7-4674-fee3-0b760b3dac7b"
      },
      "execution_count": 32,
      "outputs": [
        {
          "output_type": "stream",
          "name": "stdout",
          "text": [
            "1024\n",
            "20\n",
            "0\n",
            "11\n",
            "15\n",
            "(5+9j)\n",
            "(0.7804878048780489+0.02439024390243905j)\n"
          ]
        }
      ]
    },
    {
      "cell_type": "markdown",
      "source": [
        "/ -> Valor total de la división\n",
        "// -> Valor entero del cociente\n",
        "% residuo de la divisiòn"
      ],
      "metadata": {
        "id": "64qOj0j4_dnz"
      }
    },
    {
      "cell_type": "code",
      "source": [
        "print(55 / 2);\n",
        "print(55// 2);\n",
        "print(55 % 2);\n",
        "# Ejemplos Print\n",
        "print('\"hola mundo\"');\n",
        "print(\"\\\"Hola mundo\\\"\");\n",
        "print('Hola \\nMundo'); # el \\n hace un salto de linea\n",
        "print('Hola \\tMundo'); # el \\t es como un tabulador\n",
        "print('Hola \\bMundo'); # el \\b quita el caracter de la izquierda"
      ],
      "metadata": {
        "colab": {
          "base_uri": "https://localhost:8080/"
        },
        "id": "XI0myULe_cXY",
        "outputId": "c0a76900-ba93-458b-c1b3-02e8434d9c6e"
      },
      "execution_count": 33,
      "outputs": [
        {
          "output_type": "stream",
          "name": "stdout",
          "text": [
            "27.5\n",
            "27\n",
            "1\n",
            "\"hola mundo\"\n",
            "\"Hola mundo\"\n",
            "Hola \n",
            "Mundo\n",
            "Hola \tMundo\n",
            "Hola \bMundo\n"
          ]
        }
      ]
    },
    {
      "cell_type": "markdown",
      "source": [
        "#Palabras reservadas en python"
      ],
      "metadata": {
        "id": "jDkygBUb_wyy"
      }
    },
    {
      "cell_type": "code",
      "source": [
        "import keyword;\n",
        "\n",
        "print(keyword.kwlist);"
      ],
      "metadata": {
        "colab": {
          "base_uri": "https://localhost:8080/"
        },
        "id": "7MvfqVYF_tMZ",
        "outputId": "02cff317-8983-4f18-df59-27763d642038"
      },
      "execution_count": 34,
      "outputs": [
        {
          "output_type": "stream",
          "name": "stdout",
          "text": [
            "['False', 'None', 'True', 'and', 'as', 'assert', 'async', 'await', 'break', 'class', 'continue', 'def', 'del', 'elif', 'else', 'except', 'finally', 'for', 'from', 'global', 'if', 'import', 'in', 'is', 'lambda', 'nonlocal', 'not', 'or', 'pass', 'raise', 'return', 'try', 'while', 'with', 'yield']\n"
          ]
        }
      ]
    },
    {
      "cell_type": "markdown",
      "source": [
        "# Asingnacion secundaria  o simultanea en python"
      ],
      "metadata": {
        "id": "rdkQZ6sWAviB"
      }
    },
    {
      "cell_type": "code",
      "source": [
        "num1 = num2 = num3 = 200\n",
        "print(num2)"
      ],
      "metadata": {
        "colab": {
          "base_uri": "https://localhost:8080/"
        },
        "id": "TbFCiiyNADW6",
        "outputId": "7c52cb15-a549-4ec5-923a-8cf2c5ed3670"
      },
      "execution_count": 35,
      "outputs": [
        {
          "output_type": "stream",
          "name": "stdout",
          "text": [
            "200\n"
          ]
        }
      ]
    },
    {
      "cell_type": "code",
      "source": [
        "year = int(input(\"Ingrese el año: \"));\n",
        "leap_year = year % 4 == 0 and year % 100 != 0 or year % 400 == 0;\n",
        "print(leap_year);"
      ],
      "metadata": {
        "colab": {
          "base_uri": "https://localhost:8080/"
        },
        "id": "NXWCDLHKA2Zl",
        "outputId": "ffe0e8b0-4f0e-4ede-cd3d-653e05ade2dc"
      },
      "execution_count": 39,
      "outputs": [
        {
          "output_type": "stream",
          "name": "stdout",
          "text": [
            "Ingrese el año: 2016\n",
            "True\n"
          ]
        }
      ]
    },
    {
      "cell_type": "markdown",
      "source": [
        "### Operadores de comprobacion"
      ],
      "metadata": {
        "id": "OAtjoDqECfgE"
      }
    },
    {
      "cell_type": "code",
      "source": [
        "print('Resultado de 10>5: ', 10<5);\n",
        "print('Resultado de 10<5: ', 10<5);\n",
        "print('Resultado de 10==5: ', 10==5); # == son iguales\n",
        "print('Resultado de 10!=5: ', 10!=5); #! = significan si son difentes numeros\n",
        "print(\"Resultado de 'a' > 'b': \", 'a' > 'b');# esto da false porque el codigo\n",
        "# ASCII dice que a es 97 y b es 98, ademas no son enteros pq tienen las comillas\n",
        "# del string\n"
      ],
      "metadata": {
        "colab": {
          "base_uri": "https://localhost:8080/"
        },
        "id": "3tZBJO72CEdi",
        "outputId": "62f0d0d3-1813-4d91-b380-e6f061d1261b"
      },
      "execution_count": 41,
      "outputs": [
        {
          "output_type": "stream",
          "name": "stdout",
          "text": [
            "Resultado de 10>5:  False\n",
            "Resultado de 10<5:  False\n",
            "Resultado de 10==5:  False\n",
            "Resultado de 10!=5:  True\n",
            "Resultado de 'a' > 'b':  False\n"
          ]
        }
      ]
    },
    {
      "cell_type": "code",
      "source": [
        "print(bool(0))\n",
        "print(bool(1))\n",
        "print(bool(True))\n",
        "print(bool(False))"
      ],
      "metadata": {
        "colab": {
          "base_uri": "https://localhost:8080/"
        },
        "id": "MfV1XvYMFWc8",
        "outputId": "94ed65dd-8509-4613-c6bb-72a07429de33"
      },
      "execution_count": 42,
      "outputs": [
        {
          "output_type": "stream",
          "name": "stdout",
          "text": [
            "False\n",
            "True\n",
            "True\n",
            "False\n"
          ]
        }
      ]
    },
    {
      "cell_type": "markdown",
      "source": [
        "# Ejercicio\n",
        "En la escuela las calificaciones de los estudiantes se calculan de la siguiente manera:\n",
        "\n",
        "1. Los estudianres realizan 4 examenes a lo largo del semestre\n",
        "2. cada examen tiene una calificación maxima de 100 puntos\n",
        "3. La calificaciòn final de un estudiante se calcula de los 4 examenes y dividiendo el total entre 4 para obtener el promedio\n",
        "\n",
        "Tu tarea es escribir programa en python que:\n",
        "\n",
        "1. Solicite al usuario ingresar las calificaciones de los 4 estudiantes\n",
        "2. Calcule y muestre el promedio de las calificaciones\n",
        "3. Compare el promedio con el punto de aprobaciòn (60 puntos) e indique si el estudiante aprueba o no\n",
        "4. realiza las siguientes operaciones con el promedio:\n",
        "- Asigna el valor del promedio a una nueva variable 'Calificacion_final'\n",
        "- Multiplica 'Calificacion_final' por 1.1 (un aunmento del 10%)\n",
        "- compara 'Calificacion_final' con el puntaje de excelencia (90 puntos) e indica si el estudiante alcanzo la excelencia\n",
        "\n",
        "*Pista* Utiliza operadores de asignaciòn (=, +=, -=, *=, /=), aritmeticos (+, -, *, /) y de comparaciòn (>, <, >=, <=, ==, !=)"
      ],
      "metadata": {
        "id": "l-vK1UYhFd17"
      }
    },
    {
      "cell_type": "code",
      "source": [
        "examen1 = int(input(\"Ingrese la calificacion del primer examen del estudiante (0 - 100): \"))\n",
        "examen2 = int(input(\"Ingrese la calificacion del segundo examen del estudiante (0 - 100): \"))\n",
        "examen3 = int(input(\"Ingrese la calificacion del tercer examen del estudiante (0 - 100): \"))\n",
        "examen4 = int(input(\"Ingrese la calificacion del cuarto examen del estudiante (0 - 100): \"))\n",
        "\n",
        "promedio = (examen1 + examen2 + examen3 + examen4) / 4\n",
        "\n",
        "print(f\"El promedio de las calificaciones es: {promedio}\")\n",
        "\n",
        "if promedio >= 60:\n",
        "    print(\"El estudiante aprueba.\")\n",
        "else:\n",
        "    print(\"El estudiante no aprueba.\")\n",
        "\n",
        "\n",
        "\n",
        "Calificacion_final = promedio * 1.1\n",
        "\n",
        "print(\"la calificacion final es: \", Calificacion_final)\n",
        "\n",
        "if Calificacion_final >= 90:\n",
        "    print(\"El estudiante alcanzo excelencia.\")\n",
        "else:\n",
        "    print(\"El estudiante no alcanzo excelencia.\")\n",
        "\n",
        "\n"
      ],
      "metadata": {
        "colab": {
          "base_uri": "https://localhost:8080/"
        },
        "id": "_IF9mmfJFdYa",
        "outputId": "d0365b1e-672c-49b5-9c1b-ac2fb3899b6d"
      },
      "execution_count": 54,
      "outputs": [
        {
          "output_type": "stream",
          "name": "stdout",
          "text": [
            "Ingrese la calificacion del primer examen del estudiante (0 - 100): 90\n",
            "Ingrese la calificacion del segundo examen del estudiante (0 - 100): 90\n",
            "Ingrese la calificacion del tercer examen del estudiante (0 - 100): 90\n",
            "Ingrese la calificacion del cuarto examen del estudiante (0 - 100): 90\n",
            "El promedio de las calificaciones es: 90.0\n",
            "El estudiante aprueba.\n",
            "la calificacion final es:  99.00000000000001\n",
            "El estudiante alcanzo excelencia.\n"
          ]
        }
      ]
    }
  ],
  "metadata": {
    "colab": {
      "toc_visible": true,
      "provenance": [],
      "include_colab_link": true
    },
    "kernelspec": {
      "display_name": "Python 3",
      "name": "python3"
    }
  },
  "nbformat": 4,
  "nbformat_minor": 0
}