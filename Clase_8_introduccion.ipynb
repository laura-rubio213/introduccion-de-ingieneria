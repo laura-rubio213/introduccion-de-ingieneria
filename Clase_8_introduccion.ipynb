{
  "cells": [
    {
      "cell_type": "markdown",
      "metadata": {
        "id": "view-in-github",
        "colab_type": "text"
      },
      "source": [
        "<a href=\"https://colab.research.google.com/github/laura-rubio213/introduccion-de-ingieneria/blob/main/Clase_8_introduccion.ipynb\" target=\"_parent\"><img src=\"https://colab.research.google.com/assets/colab-badge.svg\" alt=\"Open In Colab\"/></a>"
      ]
    },
    {
      "cell_type": "markdown",
      "source": [
        "## Diccionarios, Tuplas y Ciclos"
      ],
      "metadata": {
        "id": "H2POCZ8tWl1B"
      }
    },
    {
      "cell_type": "code",
      "source": [
        "# Ejercico\n",
        "Crear un conversor de texto a codigo ASCII, Codigo binario y codigo hexadecimal"
      ],
      "metadata": {
        "id": "9gzYuk4UWmyK"
      },
      "execution_count": null,
      "outputs": []
    },
    {
      "cell_type": "code",
      "source": [
        "\n",
        "\n",
        "\n",
        "\n",
        "\n",
        "\n",
        "ascii_table = {\n",
        "    ' ':(32, '00100000', '20'),\n",
        "    '!':(33, '00100001', '21'),\n",
        "    '\"':(34, '00100010', '22'),\n",
        "    '#':(35, '00100011', '23'),\n",
        "    '$':(36, '00100100', '24'),\n",
        "    '%':(37, '00100101', '25'),\n",
        "    '&':(38, '00100110', '26'),\n",
        "    \"'\":(39, '00100111', '27'),\n",
        "    '(': (40, '00101000', '28'),\n",
        "    ')': (41, '00101001', '29'),\n",
        "    '*': (42, '00101010', '2A'),\n",
        "    '+': (43, '00101011', '2B'),\n",
        "    ',': (44, '00101100', '2C'),\n",
        "    '-': (45, '00101101', '2D'),\n",
        "    '.': (46, '00101110', '2E'),\n",
        "    '/': (47, '00101111', '2F'),\n",
        "    '0': (48, '00110000', '30'),\n",
        "    '1': (49, '00110001', '31'),\n",
        "    '2': (50, '00110010', '32'),\n",
        "    '3': (51, '00110011', '33'),\n",
        "    '4': (52, '00110100', '34'),\n",
        "    '5': (53, '00110101', '35'),\n",
        "    '6': (54, '00110110', '36'),\n",
        "    '7': (55, '00110111', '37'),\n",
        "    '8': (56, '00111000', '38'),\n",
        "    '9': (57, '00111001', '39'),\n",
        "    ':': (58, '00111010', '3A'),\n",
        "    ';': (59, '00111011', '3B'),\n",
        "    '<': (60, '00111100', '3C'),\n",
        "    '=': (61, '00111101', '3D'),\n",
        "    '>': (62, '00111110', '3E'),\n",
        "    '?': (63, '00111111', '3F'),\n",
        "    '@': (64, '01000000', '40'),\n",
        "    'A': (65, '01000001', '41'),\n",
        "    'B': (66, '01000010', '42'),\n",
        "    'C': (67, '01000011', '43'),\n",
        "    'D': (68, '01000100', '44'),\n",
        "    'E': (69, '01000101', '45'),\n",
        "    'F': (70, '01000110', '46'),\n",
        "    'G': (71, '01000111', '47'),\n",
        "    'H': (72, '01001000', '48'),\n",
        "    'I': (73, '01001001', '49'),\n",
        "    'J': (74, '01001010', '4A'),\n",
        "    'K': (75, '01001011', '4B'),\n",
        "    'L': (76, '01001100', '4C'),\n",
        "    'M': (77, '01001101', '4D'),\n",
        "    'N': (78, '01001110', '4E'),\n",
        "    'O': (79, '01001111', '4F'),\n",
        "    'P': (80, '01010000', '50'),\n",
        "    'Q': (81, '01010001', '51'),\n",
        "    'R': (82, '01010010', '52'),\n",
        "    'S': (83, '01010011', '53'),\n",
        "    'T': (84, '01010100', '54'),\n",
        "    'U': (85, '01010101', '55'),\n",
        "    'V': (86, '01010110', '56'),\n",
        "    'W': (87, '01010111', '57'),\n",
        "    'X': (88, '01011000', '58'),\n",
        "    'Y': (89, '01011001', '59'),\n",
        "    'Z': (90, '01011010', '5A'),\n",
        "    '[': (91, '01011011', '5B'),\n",
        "    '\\\\': (92, '01011100', '5C'),\n",
        "    ']': (93, '01011101', '5D'),\n",
        "    '^': (94, '01011110', '5E'),\n",
        "    '_': (95, '01011111', '5F'),\n",
        "    '`': (96, '01100000', '60'),\n",
        "    'a': (97, '01100001', '61'),\n",
        "    'b': (98, '01100010', '62'),\n",
        "    'c': (99, '01100011', '63'),\n",
        "    'd': (100, '01100100', '64'),\n",
        "    'e': (101, '01100101', '65'),\n",
        "    'f': (102, '01100110', '66'),\n",
        "    'g': (103, '01100111', '67'),\n",
        "    'h': (104, '01101000', '68'),\n",
        "    'i': (105, '01101001', '69'),\n",
        "    'j': (106, '01101010', '6A'),\n",
        "    'k': (107, '01101011', '6B'),\n",
        "    'l': (108, '01101100', '6C'),\n",
        "    'm': (109, '01101101', '6D'),\n",
        "    'n': (110, '01101110', '6E'),\n",
        "    'o': (111, '01101111', '6F'),\n",
        "    'p': (112, '01110000', '70'),\n",
        "    'q': (113, '01110001', '71'),\n",
        "    'r': (114, '01110010', '72'),\n",
        "    's': (115, '01110011', '73'),\n",
        "    't': (116, '01110100', '74'),\n",
        "    'u': (117, '01110101', '75'),\n",
        "    'v': (118, '01110110', '76'),\n",
        "    'w': (119, '01110111', '77'),\n",
        "    'x': (120, '01111000', '78'),\n",
        "    'y': (121, '01111001', '79'),\n",
        "    'z': (122, '01111010', '7A'),\n",
        "    '{': (123, '01111011', '7B'),\n",
        "    '|': (124, '01111100', '7C'),\n",
        "    '}': (125, '01111101', '7D'),\n",
        "    '~': (126, '01111110', '7E'),\n",
        "    }\n",
        "\n",
        "# Crear el diccionario ASCII dinámicamente\n",
        "ascii_table = {}\n",
        "\n",
        "for fila in range(32, 127):  # Rango de caracteres imprimibles en ASCII\n",
        "    char = chr(fila)  # Convertir el número ASCII al carácter\n",
        "    binary = f\"{fila:08b}\"  # Representación binaria de 8 bits\n",
        "    hex_value = f\"{fila:02X}\"  # Representación hexadecimal\n",
        "    ascii_table[char] = (fila, binary, hex_value)\n",
        "\n",
        "# Mostrar el diccionario creado\n",
        "print(ascii_table)\n"
      ],
      "metadata": {
        "colab": {
          "base_uri": "https://localhost:8080/"
        },
        "id": "kxOwkMszd3Nl",
        "outputId": "96779fec-f671-4788-8282-26a8a2c828ce"
      },
      "execution_count": 11,
      "outputs": [
        {
          "output_type": "stream",
          "name": "stdout",
          "text": [
            "{' ': (32, '00100000', '20'), '!': (33, '00100001', '21'), '\"': (34, '00100010', '22'), '#': (35, '00100011', '23'), '$': (36, '00100100', '24'), '%': (37, '00100101', '25'), '&': (38, '00100110', '26'), \"'\": (39, '00100111', '27'), '(': (40, '00101000', '28'), ')': (41, '00101001', '29'), '*': (42, '00101010', '2A'), '+': (43, '00101011', '2B'), ',': (44, '00101100', '2C'), '-': (45, '00101101', '2D'), '.': (46, '00101110', '2E'), '/': (47, '00101111', '2F'), '0': (48, '00110000', '30'), '1': (49, '00110001', '31'), '2': (50, '00110010', '32'), '3': (51, '00110011', '33'), '4': (52, '00110100', '34'), '5': (53, '00110101', '35'), '6': (54, '00110110', '36'), '7': (55, '00110111', '37'), '8': (56, '00111000', '38'), '9': (57, '00111001', '39'), ':': (58, '00111010', '3A'), ';': (59, '00111011', '3B'), '<': (60, '00111100', '3C'), '=': (61, '00111101', '3D'), '>': (62, '00111110', '3E'), '?': (63, '00111111', '3F'), '@': (64, '01000000', '40'), 'A': (65, '01000001', '41'), 'B': (66, '01000010', '42'), 'C': (67, '01000011', '43'), 'D': (68, '01000100', '44'), 'E': (69, '01000101', '45'), 'F': (70, '01000110', '46'), 'G': (71, '01000111', '47'), 'H': (72, '01001000', '48'), 'I': (73, '01001001', '49'), 'J': (74, '01001010', '4A'), 'K': (75, '01001011', '4B'), 'L': (76, '01001100', '4C'), 'M': (77, '01001101', '4D'), 'N': (78, '01001110', '4E'), 'O': (79, '01001111', '4F'), 'P': (80, '01010000', '50'), 'Q': (81, '01010001', '51'), 'R': (82, '01010010', '52'), 'S': (83, '01010011', '53'), 'T': (84, '01010100', '54'), 'U': (85, '01010101', '55'), 'V': (86, '01010110', '56'), 'W': (87, '01010111', '57'), 'X': (88, '01011000', '58'), 'Y': (89, '01011001', '59'), 'Z': (90, '01011010', '5A'), '[': (91, '01011011', '5B'), '\\\\': (92, '01011100', '5C'), ']': (93, '01011101', '5D'), '^': (94, '01011110', '5E'), '_': (95, '01011111', '5F'), '`': (96, '01100000', '60'), 'a': (97, '01100001', '61'), 'b': (98, '01100010', '62'), 'c': (99, '01100011', '63'), 'd': (100, '01100100', '64'), 'e': (101, '01100101', '65'), 'f': (102, '01100110', '66'), 'g': (103, '01100111', '67'), 'h': (104, '01101000', '68'), 'i': (105, '01101001', '69'), 'j': (106, '01101010', '6A'), 'k': (107, '01101011', '6B'), 'l': (108, '01101100', '6C'), 'm': (109, '01101101', '6D'), 'n': (110, '01101110', '6E'), 'o': (111, '01101111', '6F'), 'p': (112, '01110000', '70'), 'q': (113, '01110001', '71'), 'r': (114, '01110010', '72'), 's': (115, '01110011', '73'), 't': (116, '01110100', '74'), 'u': (117, '01110101', '75'), 'v': (118, '01110110', '76'), 'w': (119, '01110111', '77'), 'x': (120, '01111000', '78'), 'y': (121, '01111001', '79'), 'z': (122, '01111010', '7A'), '{': (123, '01111011', '7B'), '|': (124, '01111100', '7C'), '}': (125, '01111101', '7D'), '~': (126, '01111110', '7E')}\n"
          ]
        }
      ]
    },
    {
      "cell_type": "code",
      "source": [
        "text = input(\"ingrese un texto\")\n",
        "\n",
        "ascii_values = []\n",
        "binary_values = []\n",
        "hexadecimal_values = []\n",
        "\n",
        "for char in text:\n",
        "  if char in ascii_table:\n",
        "    ascii_code, binary_code, hexadecimal_code = ascii_table[char]\n",
        "    ascii_values.append(str(ascii_code))\n",
        "    binary_values.append(binary_code)\n",
        "    hexadecimal_values.append(hexadecimal_code)\n",
        "\n",
        "  else:\n",
        "    print(f\"El caracter ' '{char}' no esta en la tabla ASCII definida\")\n",
        "print(\"\\nConversacion\")\n",
        "print(\"ASCII: \", \" \".join(ascii_values))\n",
        "print(\"Binary: \", \" \".join(binary_values))\n",
        "print(\"Hexadecimal: \", \" \".join(hexadecimal_values))\n"
      ],
      "metadata": {
        "colab": {
          "base_uri": "https://localhost:8080/"
        },
        "id": "NE27vV_Mg63E",
        "outputId": "53651a8f-2d84-4abc-e934-c5be0fc3e190"
      },
      "execution_count": 18,
      "outputs": [
        {
          "output_type": "stream",
          "name": "stdout",
          "text": [
            "ingrese un textohola\n",
            "\n",
            "Conversacion\n",
            "ASCII:  104 111 108 97\n",
            "Binary:  01101000 01101111 01101100 01100001\n",
            "Hexadecimal:  68 6F 6C 61\n"
          ]
        }
      ]
    },
    {
      "cell_type": "markdown",
      "source": [
        "# Ejercicio\n",
        "\n",
        "Replicar el resultado del ejercicio anteriror pero usando las funciones ord(), bin(), hex(),.\n",
        "En este caso ya no tienen que hacer uso de la tabla ascii_table"
      ],
      "metadata": {
        "id": "ZDa5Up-kjjBt"
      }
    },
    {
      "cell_type": "code",
      "source": [
        "# Solicitar texto al usuario\n",
        "text = input(\"Ingrese un texto: \")\n",
        "\n",
        "ascii_values = []\n",
        "binary_values = []\n",
        "hexadecimal_values = []\n",
        "\n",
        "# Iterar sobre cada carácter del texto\n",
        "for char in text:\n",
        "    ascii_code = ord(char)  # Código ASCII\n",
        "    binary_code = bin(ascii_code)[2:] # Conversión a binario, rellenar con ceros a 8 bits\n",
        "    hexadecimal_code = hex(ascii_code)[2:]  # Conversión a hexadecimal, en mayúsculas y 2 dígitos\n",
        "\n",
        "    # Almacenar valores en las listas\n",
        "    ascii_values.append(str(ascii_code))\n",
        "    binary_values.append(binary_code)\n",
        "    hexadecimal_values.append(hexadecimal_code)\n",
        "\n",
        "# Imprimir los resultados\n",
        "print(\"\\nConversión:\")\n",
        "print(\"ASCII: \", \" \".join(ascii_values))\n",
        "print(\"Binary: \", \" \".join(binary_values))\n",
        "print(\"Hexadecimal: \", \" \".join(hexadecimal_values))\n"
      ],
      "metadata": {
        "colab": {
          "base_uri": "https://localhost:8080/"
        },
        "id": "Ux9iICG9jiK2",
        "outputId": "93671227-ab98-4677-d0b5-1d157634c58f"
      },
      "execution_count": 25,
      "outputs": [
        {
          "output_type": "stream",
          "name": "stdout",
          "text": [
            "Ingrese un texto: hola\n",
            "\n",
            "Conversión:\n",
            "ASCII:  104 111 108 97\n",
            "Binary:  1101000 1101111 1101100 1100001\n",
            "Hexadecimal:  68 6f 6c 61\n"
          ]
        }
      ]
    },
    {
      "cell_type": "markdown",
      "source": [
        "## Ejercicio\n",
        "\n",
        "La agencia A planea emitir boletos para una sala de conciertos para el concierto de cantantes JJJJ. Aqui, el numero 'n' es la entrada y el numero de asientos de organiza de la siguiente manera:\n",
        "\n",
        "se colocan 'n*n' asientos cuando se da 'n' como entrada. La siguiente disposicion de los numeros de asiento se denomina matriz de serpiente, porque la matriz aumenta en uno con forma de trompa de serpient\n",
        "\n",
        "Escriba un programa que produzca arreglos de estos numeros:\n",
        "\n",
        "ejemplo de salida:\n",
        "\n",
        "```txt\n",
        "\n",
        "1 2 3 4 5\n",
        "10 9 8 7 6\n",
        "11 12 13 14 15\n",
        "20 19 18 17 16\n",
        "21 22 23 24 25\n",
        "```\n",
        "\n",
        "por lo tanto verias las direcciones de la siguiente manera:\n",
        "\n",
        "```txt\n",
        "1 2 3 4 5      ----->\n",
        "10 9 8 7 6     <------\n",
        "11 12 13 14 15 ------->\n",
        "20 19 18 17 16 <------\n",
        "21 22 23 24 25  ------>\n",
        "```"
      ],
      "metadata": {
        "id": "NOVZh135y82B"
      }
    },
    {
      "cell_type": "code",
      "source": [
        "# Pide un numero al usuario\n",
        "n = int(input(\"Ingrese el tamaño de la matriz (n): \"))\n",
        "matriz = [[0] * n for _ in range(n)] # inserta 0 para cada columna\n",
        "numero = 1\n",
        "\n",
        "#define condicional para determinar el rango osea el tamaño de la matriz, si es par va hacia la derecha con su condicional y si es impar retrocede hacia la izquierda con su condicional\n",
        "for fila in range(n):\n",
        "    for columna in (range(n) if fila % 2 == 0 else range(n-1, -1, -1)):\n",
        "        matriz[fila][columna] = numero\n",
        "        numero += 1\n",
        "#representa las filas con la funcion map que consiste en aplicar funciones en una susecion de elementos, y el join lo que pone en el espacio\n",
        "for fila in matriz:\n",
        "    print(\" \".join(map(str, fila)))\n"
      ],
      "metadata": {
        "colab": {
          "base_uri": "https://localhost:8080/"
        },
        "id": "8oNVMc8nzHXb",
        "outputId": "6c6e478f-1080-4a94-e10f-3a71afb2c66b"
      },
      "execution_count": 47,
      "outputs": [
        {
          "output_type": "stream",
          "name": "stdout",
          "text": [
            "Ingrese el tamaño de la matriz (n): 10\n",
            "1 2 3 4 5 6 7 8 9 10\n",
            "20 19 18 17 16 15 14 13 12 11\n",
            "21 22 23 24 25 26 27 28 29 30\n",
            "40 39 38 37 36 35 34 33 32 31\n",
            "41 42 43 44 45 46 47 48 49 50\n",
            "60 59 58 57 56 55 54 53 52 51\n",
            "61 62 63 64 65 66 67 68 69 70\n",
            "80 79 78 77 76 75 74 73 72 71\n",
            "81 82 83 84 85 86 87 88 89 90\n",
            "100 99 98 97 96 95 94 93 92 91\n"
          ]
        }
      ]
    }
  ],
  "metadata": {
    "colab": {
      "toc_visible": true,
      "provenance": [],
      "include_colab_link": true
    },
    "kernelspec": {
      "display_name": "Python 3",
      "name": "python3"
    }
  },
  "nbformat": 4,
  "nbformat_minor": 0
}