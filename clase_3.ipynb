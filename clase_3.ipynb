{
  "cells": [
    {
      "cell_type": "markdown",
      "metadata": {
        "id": "view-in-github",
        "colab_type": "text"
      },
      "source": [
        "<a href=\"https://colab.research.google.com/github/laura-rubio213/introduccion-de-ingieneria/blob/main/clase_3.ipynb\" target=\"_parent\"><img src=\"https://colab.research.google.com/assets/colab-badge.svg\" alt=\"Open In Colab\"/></a>"
      ]
    },
    {
      "cell_type": "markdown",
      "source": [
        "## Ejercicio 1\n",
        "use la funcion int para retomar el numero 100 sumando el caracter \"50\" al numero 50, adicionalmente, use la funcion str para retomar el resultado el resultado de la adicion \"5050\""
      ],
      "metadata": {
        "id": "EFajwAyj7Byo"
      }
    },
    {
      "cell_type": "code",
      "source": [
        "\n",
        "\n",
        "num1 = 50;\n",
        "num2 = \"50\";\n",
        "\n",
        "print(str(num1 + int(num2)));\n",
        "print(num1 + int(num2));"
      ],
      "metadata": {
        "id": "GEg2tQ0X6xTo",
        "outputId": "33d3ca39-9aef-413a-b476-4fcb68a467b0",
        "colab": {
          "base_uri": "https://localhost:8080/"
        }
      },
      "execution_count": null,
      "outputs": [
        {
          "output_type": "stream",
          "name": "stdout",
          "text": [
            "100\n",
            "100\n"
          ]
        }
      ]
    },
    {
      "cell_type": "markdown",
      "source": [
        "## Ejercicio 2\n",
        "\n",
        "se proveen una letra \"1\" y tres \"0\".Use estas para construir el numero 100.Aqui solo se permiten operaciones de adicion entre strings, y la funcion int() puede ser usada solo una vez"
      ],
      "metadata": {
        "id": "IRWhB9OB9T42"
      }
    },
    {
      "cell_type": "code",
      "source": [
        "arr = [\"1\", \"0\", \"0\", \"0\"];\n",
        "result = \"\".join(arr);\n",
        "print(result);\n"
      ],
      "metadata": {
        "id": "B_bz0oap9PUI",
        "outputId": "531530eb-d1f6-4909-ef71-eb521c712593",
        "colab": {
          "base_uri": "https://localhost:8080/"
        }
      },
      "execution_count": null,
      "outputs": [
        {
          "output_type": "stream",
          "name": "stdout",
          "text": [
            "1000\n"
          ]
        }
      ]
    },
    {
      "cell_type": "markdown",
      "source": [
        "## FUNCIONES DE RECURCION"
      ],
      "metadata": {
        "id": "cLQ34c0b_erp"
      }
    },
    {
      "cell_type": "code",
      "source": [
        "n1 = 5\n",
        "n2 = 10\n",
        "\n",
        "def factorial(number):\n",
        "  if number < 0:\n",
        "    return \"No hay factorial de negativos\"\n",
        "  elif number == 0:\n",
        "    return 1\n",
        "  else:\n",
        "    fact = 1\n",
        "    while (number > 1):\n",
        "      fact *= number\n",
        "      number -= 1\n",
        "    return fact\n",
        "\n",
        "print(factorial(n1))\n",
        "print(factorial(n2))"
      ],
      "metadata": {
        "id": "k15b_mnJ_lzW",
        "outputId": "4d2f0cf2-811c-41b9-8ce9-9cb39c71b23f",
        "colab": {
          "base_uri": "https://localhost:8080/"
        }
      },
      "execution_count": null,
      "outputs": [
        {
          "output_type": "stream",
          "name": "stdout",
          "text": [
            "120\n",
            "3628800\n"
          ]
        }
      ]
    },
    {
      "cell_type": "code",
      "source": [
        "def simple_factorial(n):\n",
        "  aux = n\n",
        "  for i in range(n-1, 0, -1):\n",
        "    aux *= i\n",
        "  return aux\n",
        "\n",
        "print(\"Factorial de 5: \", simple_factorial(5));\n",
        "print(\"Factorial de 10: \", simple_factorial(10));"
      ],
      "metadata": {
        "id": "QCoOfyGaA33J",
        "outputId": "62cbb785-801e-4e8c-ca0f-b6ba498ba739",
        "colab": {
          "base_uri": "https://localhost:8080/"
        }
      },
      "execution_count": null,
      "outputs": [
        {
          "output_type": "stream",
          "name": "stdout",
          "text": [
            "Factorial de 5:  120\n",
            "Factorial de 10:  3628800\n"
          ]
        }
      ]
    },
    {
      "cell_type": "code",
      "source": [
        "\n",
        "number = int(input(\"Ingrese un numero: \"))\n",
        "def factorial_recursion(number):\n",
        "  if number == 0:\n",
        "    return 1\n",
        "  else:\n",
        "    return number * factorial_recursion(number - 1)\n",
        "print(factorial_recursion(number));\n"
      ],
      "metadata": {
        "id": "i1r5TQtiEX5H",
        "outputId": "47ba1655-20b0-4b1a-a7a5-13a0d07abe44",
        "colab": {
          "base_uri": "https://localhost:8080/"
        }
      },
      "execution_count": null,
      "outputs": [
        {
          "output_type": "stream",
          "name": "stdout",
          "text": [
            "Ingrese un numero: 5\n",
            "120\n"
          ]
        }
      ]
    },
    {
      "cell_type": "code",
      "source": [
        "n1 = int(input(\"Ingrese un numero: \"))\n",
        "n2 = int(input(\"Ingrese un numero: \"))\n",
        "\n",
        "import math\n",
        "print(math.factorial(n1));\n",
        "print(math.factorial(n2));"
      ],
      "metadata": {
        "id": "TUKt6kb0FbOg",
        "outputId": "77275967-f678-4925-b034-26e87932ac89",
        "colab": {
          "base_uri": "https://localhost:8080/"
        }
      },
      "execution_count": null,
      "outputs": [
        {
          "output_type": "stream",
          "name": "stdout",
          "text": [
            "Ingrese un numero: 5\n",
            "Ingrese un numero: 9\n",
            "120\n",
            "362880\n"
          ]
        }
      ]
    },
    {
      "cell_type": "markdown",
      "source": [
        "## Ejercicio 3\n",
        " El teorema de pitagoras afirma que el cuadrado de la hipotenusa c para cualquier triangulo rectangulo es igual al cuadrado de la base a mas el cuadrado de la altura b, escriba un codigo que calcule el largo de la hipotenusa recibiendo la base y la altura como entero"
      ],
      "metadata": {
        "id": "kmJXNqWVGoU4"
      }
    },
    {
      "cell_type": "code",
      "source": [
        "a = int(input(\"ingrese un numero\"));\n",
        "b = int(input(\"ingrese la altura\"));\n",
        "c = ((a**2 + b**2)**0.5);\n",
        "print(\"la hipotenusa es: \", c);\n"
      ],
      "metadata": {
        "id": "-wXQcUdfF1hV",
        "outputId": "a875170d-e60b-4982-c70e-5eeaf59302f1",
        "colab": {
          "base_uri": "https://localhost:8080/"
        }
      },
      "execution_count": null,
      "outputs": [
        {
          "output_type": "stream",
          "name": "stdout",
          "text": [
            "ingrese un numero8\n",
            "ingrese la altura8\n",
            "la hipotenusa es:  11.313708498984761\n"
          ]
        }
      ]
    },
    {
      "cell_type": "markdown",
      "source": [
        "## Ejercicio 4\n",
        "\n",
        "Escribe un programa que muestre los valores cuadrados de 2 a 6 en una tabla como la que se mostro anteriormente, en este caso la variable a se puede incrementar de 2 a 6, y n tiene el valor de 2. Ingrese el valor actuarl para la parte correrspondiente de a*n, de tal forma que el resultado de salida de la ecuación sea 2*2.\n",
        "\n",
        "|a|n|a**n|\n",
        "|--|--|--|\n",
        "|2|2|4|\n",
        "|3|2|9|\n",
        "|4|2|16|\n",
        "|5|2|25|\n",
        "|6|2|36|"
      ],
      "metadata": {
        "id": "5sIODyH_KLkU"
      }
    },
    {
      "cell_type": "code",
      "source": [
        "\n",
        "a_values = [2, 3, 4, 5, 6]\n",
        "n = 2\n",
        "\n",
        "for a in a_values:\n",
        "    result = a ** n\n",
        "    print(f\"{a}\\t{n}\\t{result}\")\n"
      ],
      "metadata": {
        "id": "Rb3HHPHMHzMg",
        "outputId": "c9685b71-b931-4041-c23a-e4fbd7bb4190",
        "colab": {
          "base_uri": "https://localhost:8080/"
        }
      },
      "execution_count": null,
      "outputs": [
        {
          "output_type": "stream",
          "name": "stdout",
          "text": [
            "2\t2\t4\n",
            "3\t2\t9\n",
            "4\t2\t16\n",
            "5\t2\t25\n",
            "6\t2\t36\n"
          ]
        }
      ]
    },
    {
      "cell_type": "code",
      "source": [
        "age = int(input(\"ingrese su edad: \"));\n",
        "\n",
        "if age % 2 == 0:\n",
        "  print(\"Su edad es par\");\n",
        "else:\n",
        "  print(\"Su edad es impar\");"
      ],
      "metadata": {
        "id": "nlyk5n3TNt_G",
        "outputId": "d20993b5-7bfe-4d3b-ebc1-9abc516bcc90",
        "colab": {
          "base_uri": "https://localhost:8080/"
        }
      },
      "execution_count": null,
      "outputs": [
        {
          "output_type": "stream",
          "name": "stdout",
          "text": [
            "ingrese su edad: 7\n",
            "Su edad es impar\n"
          ]
        }
      ]
    },
    {
      "cell_type": "code",
      "source": [
        "age = int(input(\"ingrese su edad: \"))\n",
        "print(\"par\" if age % 2 == 0  else \"impar\")"
      ],
      "metadata": {
        "id": "pNnOwfxiRphS",
        "outputId": "47c850e0-568f-49ca-a66a-da7554bae891",
        "colab": {
          "base_uri": "https://localhost:8080/"
        }
      },
      "execution_count": null,
      "outputs": [
        {
          "output_type": "stream",
          "name": "stdout",
          "text": [
            "ingrese su edad: 8\n",
            "par\n"
          ]
        }
      ]
    },
    {
      "cell_type": "markdown",
      "source": [
        "\n",
        "## Ejercicio 5\n",
        "\n",
        "recibir un numero entero de 3 digitos del usuario si en sentesimo digito del entero n es 3 entonces devuelve el bluque si no devuelme un false"
      ],
      "metadata": {
        "id": "MPKIp6xOSkqs"
      }
    },
    {
      "cell_type": "code",
      "source": [
        "n = int(input(\"n: \"));\n",
        "\n",
        "if(n // 100) == 3:\n",
        "  print(True);\n",
        "else:\n",
        "  print(False);"
      ],
      "metadata": {
        "id": "_rK1ndyJRtXP",
        "outputId": "b8c08a47-1708-415a-bd56-7be29c7e7188",
        "colab": {
          "base_uri": "https://localhost:8080/"
        }
      },
      "execution_count": null,
      "outputs": [
        {
          "output_type": "stream",
          "name": "stdout",
          "text": [
            "n: 8\n",
            "False\n"
          ]
        }
      ]
    },
    {
      "cell_type": "markdown",
      "source": [
        "## Ejercico 6\n",
        "Recibe un entero. Si el número entero es multiplo de 5, devuelve True, si no, devuelve False\n",
        "\n"
      ],
      "metadata": {
        "id": "lLM82lxRVNEh"
      }
    },
    {
      "cell_type": "code",
      "source": [
        "n = int(input(\"Ingrese un numero: \"));\n",
        "\n",
        "if (n % 5) == 0:\n",
        "  print(True);\n",
        "else:\n",
        "  print(False);"
      ],
      "metadata": {
        "id": "_ueTM1mNU8zY",
        "outputId": "d79757fc-0d62-42f3-b342-489bcce3ac9d",
        "colab": {
          "base_uri": "https://localhost:8080/"
        }
      },
      "execution_count": null,
      "outputs": [
        {
          "output_type": "stream",
          "name": "stdout",
          "text": [
            "Ingrese un numero: 5\n",
            "True\n"
          ]
        }
      ]
    },
    {
      "cell_type": "markdown",
      "source": [
        "## Ejercico 7\n",
        " Reciba una letra alfabetica del ususario e imprima \"is a vocal\" para las vocales o \"is a consonant\" para cualquier otra letra. en caso de que no sea ninguna de las dos condiciones imprima \"is not an alphabet\""
      ],
      "metadata": {
        "id": "A5iQGoa3XcvW"
      }
    },
    {
      "cell_type": "code",
      "source": [
        "user = input(\"ingrese un caracter: \");\n",
        "\n",
        "if user in [ \"a\", \"e\", \"i\", \"o\", \"u\"]:\n",
        "  print(\"is a vocal\");\n",
        "elif user in [ \"b\", \"c\", \"d\"]:\n",
        "  print(\"is a consonant\");\n",
        "else:\n",
        "  print(\"is not an alphabet\");"
      ],
      "metadata": {
        "id": "3WHwkCIhWbkT",
        "outputId": "190ee0e6-360d-4feb-bc5f-37b904daa5e5",
        "colab": {
          "base_uri": "https://localhost:8080/"
        }
      },
      "execution_count": null,
      "outputs": [
        {
          "output_type": "stream",
          "name": "stdout",
          "text": [
            "ingrese un caracter: 54\n",
            "is not an alphabet\n"
          ]
        }
      ]
    }
  ],
  "metadata": {
    "colab": {
      "toc_visible": true,
      "provenance": [],
      "include_colab_link": true
    },
    "kernelspec": {
      "display_name": "Python 3",
      "name": "python3"
    }
  },
  "nbformat": 4,
  "nbformat_minor": 0
}