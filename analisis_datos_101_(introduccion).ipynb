{
  "cells": [
    {
      "cell_type": "markdown",
      "metadata": {
        "id": "view-in-github",
        "colab_type": "text"
      },
      "source": [
        "<a href=\"https://colab.research.google.com/github/laura-rubio213/introduccion-de-ingieneria/blob/main/analisis_datos_101_(introduccion).ipynb\" target=\"_parent\"><img src=\"https://colab.research.google.com/assets/colab-badge.svg\" alt=\"Open In Colab\"/></a>"
      ]
    },
    {
      "cell_type": "markdown",
      "source": [
        "## Repaso\n",
        "\n",
        "## tipos de datos\n",
        "\n",
        "|tipo|descripcion|ejemplo|\n",
        "|---|----|-----|\n",
        "|int|entero|42|\n",
        "|float|decimales-reales|3.1416|\n",
        "|str|cadenas de texto|\"hola|\n",
        "|bool|boleanos|true, false|\n",
        "|none type|nulos o sin valor|none, naw(pandas)|\n",
        "\n",
        "\n",
        "## tipos de datos en pandas\n",
        "## Tipos de Datos en Pandas\n",
        "|Tipo|Descripción|\n",
        "|--|--|\n",
        "|int64, float64|Numeros enteros y reales con una cantidad de bits especificos|\n",
        "|object|Cadenas o Valores Mixtos|\n",
        "|bool|Boolenaos|\n",
        "|datetime64|Fechas|\n",
        "|category|Categorias mas eficientes (Mas rápidos y usan menos memoria)|"
      ],
      "metadata": {
        "id": "OABff5OmK8wO"
      }
    },
    {
      "cell_type": "markdown",
      "source": [
        "## Exercise 01\n",
        "\n",
        "*Problem Statemente*\n",
        "\n",
        "Write a Python program that demostrates the use of the following data types:\n",
        "\n",
        "- intenger\n",
        "- Float\n",
        "- String\n",
        "- Boolean\n",
        "- List\n",
        "- Tuple\n",
        "- Dictionaty\n",
        "\n",
        "You Program should:\n",
        "\n",
        "1. Define a variable for each data type and assign appropiate values to them.\n",
        "\n",
        "2. Print the data type of each variable using the \"type()\" function.\n",
        "\n",
        "3. Perform at least one operation or manipulation for each data type (e.g., concatenation for strings, addition for integers and floats, accessing element for list and tuples, adding or updating hey-values pairs of dictionary).\n",
        "\n",
        "For example:\n",
        "\n",
        "- Create a string variable and concatenate it with another string.\n",
        "- Create a list and appened a new item to it\n",
        "- Create a dictionary and update an existing key"
      ],
      "metadata": {
        "id": "SXdiVQMeNl5i"
      }
    },
    {
      "cell_type": "code",
      "source": [
        "int_ = 10\n",
        "numero_decimal = 3.14\n",
        "texto = \"Hola\"\n",
        "szs = True\n",
        "lista_numeros = [1, 2, 3]\n",
        "tupla_frutas = (\"manzana\", \"banana\", \"cereza\")\n",
        "datos_persona = {\"nombre\": \"Alicia\", \"edad\": 25}\n",
        "\n",
        "print(\"numero_entero: \", type(int_))\n",
        "print(\"numero_decimal: \", type(numero_decimal))\n",
        "print(\"texto: \", type(texto))\n",
        "print(\"es_verdadero: \", type(szs))\n",
        "print(\"lista_numeros: \", type(lista_numeros))\n",
        "print(\"tupla_frutas: \", type(tupla_frutas))\n",
        "datos_persona[\"edad\"] = 30\n",
        "print(\"datos_persona: \", type(datos_persona))\n",
        "print(datos_persona)"
      ],
      "metadata": {
        "colab": {
          "base_uri": "https://localhost:8080/"
        },
        "id": "AWB6Dw_tUY31",
        "outputId": "0e98e09d-8a1d-4fae-a04d-c9c2de6d96a8"
      },
      "execution_count": 10,
      "outputs": [
        {
          "output_type": "stream",
          "name": "stdout",
          "text": [
            "numero_entero:  <class 'int'>\n",
            "numero_decimal:  <class 'float'>\n",
            "texto:  <class 'str'>\n",
            "es_verdadero:  <class 'bool'>\n",
            "lista_numeros:  <class 'list'>\n",
            "tupla_frutas:  <class 'tuple'>\n",
            "datos_persona:  <class 'dict'>\n",
            "{'nombre': 'Alicia', 'edad': 30}\n"
          ]
        }
      ]
    },
    {
      "cell_type": "markdown",
      "source": [
        "\n",
        "## pandas\n",
        "# En local debe hacer una instalación mediante el siguiente comando: pip.install pandas"
      ],
      "metadata": {
        "id": "pX_1w1y_UQkZ"
      }
    },
    {
      "cell_type": "code",
      "source": [
        "import pandas as pd"
      ],
      "metadata": {
        "id": "VMBsrv2iVy_V"
      },
      "execution_count": 11,
      "outputs": []
    },
    {
      "cell_type": "markdown",
      "source": [
        "## series"
      ],
      "metadata": {
        "id": "Q3Txx788WSV6"
      }
    },
    {
      "cell_type": "code",
      "source": [
        "var = pd.Series([10, 20, 30, 30, 30, 40], index = ['a', 'b', 'c', 'd', 'e', 'f'])\n",
        "print(var)"
      ],
      "metadata": {
        "colab": {
          "base_uri": "https://localhost:8080/"
        },
        "id": "AtIe1GUzWT6Z",
        "outputId": "9cf0d6c8-d199-44d3-d410-9390d2c6fca6"
      },
      "execution_count": 15,
      "outputs": [
        {
          "output_type": "stream",
          "name": "stdout",
          "text": [
            "a    10\n",
            "b    20\n",
            "c    30\n",
            "d    30\n",
            "e    30\n",
            "f    40\n",
            "dtype: int64\n"
          ]
        }
      ]
    },
    {
      "cell_type": "markdown",
      "source": [
        "## propidad o metodos clave"
      ],
      "metadata": {
        "id": "e8c_19ZxWrq5"
      }
    },
    {
      "cell_type": "code",
      "source": [
        "print(var.index)\n",
        "print(var.sum())\n",
        "print(var.value_counts())\n",
        "print(var[\"f\"])\n",
        "print(var.iloc[5])"
      ],
      "metadata": {
        "colab": {
          "base_uri": "https://localhost:8080/"
        },
        "id": "l40Qnuc_W3CC",
        "outputId": "724ed6ea-1401-4ccf-bfed-8d4a7d53b0c7"
      },
      "execution_count": 18,
      "outputs": [
        {
          "output_type": "stream",
          "name": "stdout",
          "text": [
            "Index(['a', 'b', 'c', 'd', 'e', 'f'], dtype='object')\n",
            "160\n",
            "30    3\n",
            "10    1\n",
            "20    1\n",
            "40    1\n",
            "Name: count, dtype: int64\n",
            "40\n",
            "40\n"
          ]
        }
      ]
    },
    {
      "cell_type": "code",
      "source": [
        "var = pd.Series({\"x\":100, \"y\":200, \"z\":150})\n",
        "print(var);"
      ],
      "metadata": {
        "colab": {
          "base_uri": "https://localhost:8080/"
        },
        "id": "AW0A8NxuZszw",
        "outputId": "9ad72f8a-a9a8-4605-da7f-3018cf7a1f12"
      },
      "execution_count": 19,
      "outputs": [
        {
          "output_type": "stream",
          "name": "stdout",
          "text": [
            "x    100\n",
            "y    200\n",
            "z    150\n",
            "dtype: int64\n"
          ]
        }
      ]
    },
    {
      "cell_type": "code",
      "source": [
        "var = pd.Series(7, index=[\"a\",\"b\",\"c\"], name=\"Serie ejemplo\")\n",
        "print(var);"
      ],
      "metadata": {
        "colab": {
          "base_uri": "https://localhost:8080/"
        },
        "id": "BqGzJjNUa-Fo",
        "outputId": "22dace74-3c8d-48f6-d23f-12e8cc5851e7"
      },
      "execution_count": 20,
      "outputs": [
        {
          "output_type": "stream",
          "name": "stdout",
          "text": [
            "a    7\n",
            "b    7\n",
            "c    7\n",
            "Name: Serie ejemplo, dtype: int64\n"
          ]
        }
      ]
    },
    {
      "cell_type": "code",
      "source": [
        "print(var.index)\n",
        "print(var.values)\n",
        "print(var.dtype)\n",
        "print(var.shape)\n",
        "print(var.name)\n",
        "var.name = \"nuevo valor\"\n",
        "print(var.name)"
      ],
      "metadata": {
        "colab": {
          "base_uri": "https://localhost:8080/"
        },
        "id": "tdRDagSqbAWL",
        "outputId": "b9fe3c67-4aa7-41b7-e635-f4c5cebc8fe1"
      },
      "execution_count": 23,
      "outputs": [
        {
          "output_type": "stream",
          "name": "stdout",
          "text": [
            "Index(['a', 'b', 'c'], dtype='object')\n",
            "[7 7 7]\n",
            "int64\n",
            "(3,)\n",
            "nuevo valor\n",
            "nuevo valor\n"
          ]
        }
      ]
    },
    {
      "cell_type": "code",
      "source": [
        "foo = pd.Series([10, 30, 50, 14, 7])\n",
        "\n",
        "##flitrado\n",
        "print(foo[foo > 4])\n",
        "\n",
        "#operaciones vectorizadas\n",
        "print(foo * 2)\n",
        "print(foo + 10)\n",
        "print(foo % 2)"
      ],
      "metadata": {
        "colab": {
          "base_uri": "https://localhost:8080/"
        },
        "id": "m8jcbOrvbUIf",
        "outputId": "eb79ce8e-2f08-4fa5-f27e-e4b17bf9afcf"
      },
      "execution_count": 24,
      "outputs": [
        {
          "output_type": "stream",
          "name": "stdout",
          "text": [
            "0    10\n",
            "1    30\n",
            "2    50\n",
            "3    14\n",
            "4     7\n",
            "dtype: int64\n",
            "0     20\n",
            "1     60\n",
            "2    100\n",
            "3     28\n",
            "4     14\n",
            "dtype: int64\n",
            "0    20\n",
            "1    40\n",
            "2    60\n",
            "3    24\n",
            "4    17\n",
            "dtype: int64\n",
            "0    0\n",
            "1    0\n",
            "2    0\n",
            "3    0\n",
            "4    1\n",
            "dtype: int64\n"
          ]
        }
      ]
    },
    {
      "cell_type": "code",
      "source": [
        "print(foo.max())\n",
        "print(foo.sort_values())\n",
        "print(foo.sort_index())"
      ],
      "metadata": {
        "colab": {
          "base_uri": "https://localhost:8080/"
        },
        "id": "uM-cgBxqcp5p",
        "outputId": "f916ac72-b04a-420e-adbc-1356ba80b6b6"
      },
      "execution_count": 25,
      "outputs": [
        {
          "output_type": "stream",
          "name": "stdout",
          "text": [
            "50\n",
            "4     7\n",
            "0    10\n",
            "3    14\n",
            "1    30\n",
            "2    50\n",
            "dtype: int64\n",
            "0    10\n",
            "1    30\n",
            "2    50\n",
            "3    14\n",
            "4     7\n",
            "dtype: int64\n"
          ]
        }
      ]
    },
    {
      "cell_type": "code",
      "source": [
        "foo[5] = 100\n",
        "print(foo)"
      ],
      "metadata": {
        "colab": {
          "base_uri": "https://localhost:8080/"
        },
        "id": "n6tc1j7icwdq",
        "outputId": "252e4986-612e-405a-cbe1-9d95a631a362"
      },
      "execution_count": 26,
      "outputs": [
        {
          "output_type": "stream",
          "name": "stdout",
          "text": [
            "0     10\n",
            "1     30\n",
            "2     50\n",
            "3     14\n",
            "4      7\n",
            "5    100\n",
            "dtype: int64\n"
          ]
        }
      ]
    },
    {
      "cell_type": "code",
      "source": [
        "foo = pd.Series([10, 20, 30, 30, 30, 40], index = ['a', 'b', 'c', 'd', 'e', 'f'])\n",
        "foo.rename({'a': \"Alpha\"})\n",
        "print(foo)"
      ],
      "metadata": {
        "colab": {
          "base_uri": "https://localhost:8080/"
        },
        "id": "WKMU-jYwc5_k",
        "outputId": "76d49b46-b42d-4d4d-bbb6-81090d0068c7"
      },
      "execution_count": 29,
      "outputs": [
        {
          "output_type": "stream",
          "name": "stdout",
          "text": [
            "a    10\n",
            "b    20\n",
            "c    30\n",
            "d    30\n",
            "e    30\n",
            "f    40\n",
            "dtype: int64\n"
          ]
        }
      ]
    },
    {
      "cell_type": "code",
      "source": [
        "foo = pd.Series([10, None, 30, None, 50, None, 70])\n",
        "foo.isnull()\n",
        "Newfoo = foo.fillna(foo.mean())\n",
        "print(Newfoo)"
      ],
      "metadata": {
        "colab": {
          "base_uri": "https://localhost:8080/"
        },
        "id": "J3MyiDzNeWga",
        "outputId": "20761b3a-d61b-46e6-ce65-8a9bb4f78c13"
      },
      "execution_count": 30,
      "outputs": [
        {
          "output_type": "stream",
          "name": "stdout",
          "text": [
            "0    10.0\n",
            "1    40.0\n",
            "2    30.0\n",
            "3    40.0\n",
            "4    50.0\n",
            "5    40.0\n",
            "6    70.0\n",
            "dtype: float64\n"
          ]
        }
      ]
    }
  ],
  "metadata": {
    "colab": {
      "toc_visible": true,
      "provenance": [],
      "include_colab_link": true
    },
    "kernelspec": {
      "display_name": "Python 3",
      "name": "python3"
    }
  },
  "nbformat": 4,
  "nbformat_minor": 0
}