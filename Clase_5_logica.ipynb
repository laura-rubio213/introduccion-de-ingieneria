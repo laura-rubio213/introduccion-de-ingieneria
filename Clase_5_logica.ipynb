{
  "cells": [
    {
      "cell_type": "markdown",
      "metadata": {
        "id": "view-in-github",
        "colab_type": "text"
      },
      "source": [
        "<a href=\"https://colab.research.google.com/github/laura-rubio213/introduccion-de-ingieneria/blob/main/Clase_5_logica.ipynb\" target=\"_parent\"><img src=\"https://colab.research.google.com/assets/colab-badge.svg\" alt=\"Open In Colab\"/></a>"
      ]
    },
    {
      "cell_type": "markdown",
      "source": [
        "# Estructura While"
      ],
      "metadata": {
        "id": "IHzNrl5j9Dax"
      }
    },
    {
      "cell_type": "markdown",
      "source": [
        "##Ejercicio\n",
        "\n",
        "Desarrolle un programa de pedido de menú para Yummy Restaurant. Muestre el siguiente menu al usuario y permita que el usuario seleccione uno. Si el alfabeto de entrada dado no está en el menú, imprima \"Ingrese al menu de nuevo\"\n",
        "y reciba otra entrada.\n",
        "\n",
        "Ejemplo de salida:\n",
        "\n",
        "txt\n",
        "Welcome to Yummy Restaurant. Here is the menu:\n",
        "menu:\n",
        "- Burger (enter b)\n",
        "- Chicken (enter c)\n",
        "- Pizza (enter p)\n",
        "-Choose a menu( enter b, c, p): p\n",
        "You choose pizza"
      ],
      "metadata": {
        "id": "8BsGVhmlBtZH"
      }
    },
    {
      "cell_type": "code",
      "source": [
        "print( \"welcom to Yummi restorant\")\n",
        "print(\"menu:\")\n",
        "print(\"burger (enter b)\")\n",
        "print(\"chicken (enter c)\")\n",
        "print(\"pizza (enter p)\" )\n",
        "\n",
        "\n",
        "menu_choice = \"\"\n",
        "\n",
        "while menu_choice not in ['b', 'c', 'p']:\n",
        "    menu_choice = input(\"Choose a menu (enter b, c, p): \").lower()\n",
        "    if menu_choice == 'b':\n",
        "        print(\"You choose Burger.\")\n",
        "    elif menu_choice == 'c':\n",
        "        print(\"You choose Chicken.\")\n",
        "    elif menu_choice == 'p':\n",
        "        print(\"You choose Pizza.\")\n",
        "    else:\n",
        "\n",
        "        print(\"Invalid choice. Please enter a valid menu option.\")\n"
      ],
      "metadata": {
        "colab": {
          "base_uri": "https://localhost:8080/"
        },
        "id": "YoAMI2FIBsUH",
        "outputId": "3556c242-fcfb-4b07-f109-43d0a55039c3"
      },
      "execution_count": 9,
      "outputs": [
        {
          "output_type": "stream",
          "name": "stdout",
          "text": [
            "welcom to Yummi restorant\n",
            "menu:\n",
            "burger (enter b)\n",
            "chicken (enter c)\n",
            "pizza (enter p)\n",
            "Choose a menu (enter b, c, p): p\n",
            "You choose Pizza.\n"
          ]
        }
      ]
    },
    {
      "cell_type": "markdown",
      "source": [
        "## Ejercicoo 2\n",
        "Escriba un programa que ejecute sumas, restas, multiplicaciones, diviones, potencias y raices\n",
        "imprime el resultado de la operacion de dos numeros enteros positivos,en funcion del numero de operacion deseado dado como entrada. Si se ingresa un numero diferente a 1, 2, 3, 4, 5, o 6, se imprime \"se ingreso un numero incorrecto\". Para ingresar 2 numeros, escribe uno, presiona enter y escribe el otro\n",
        "\n",
        "\n",
        "\n",
        "ejemplo de salidaL:\n",
        "\n",
        "```txt\n",
        "\n",
        "calculadora:\n",
        "1. sumar\n",
        "2. restar\n",
        "3. multiplicar\n",
        "4. dividir\n",
        "5. potenciar (a -> base, b -> potencia)\n",
        "6.primos (validar si ambos son primos)\n",
        "\n",
        "Ingrese el numero de operacion: 6\n",
        "n1= 3\n",
        "n2= 37\n",
        "\n",
        "ambos son primos\n",
        "\n",
        "¿Desea repartir el menu? (1 para si, 2 para no):1\n",
        "\n",
        "`````````````````````````````````\n",
        "\n",
        "\n",
        "calculadora:\n",
        "1. sumar\n",
        "2. restar\n",
        "3. multiplicar\n",
        "4. dividir\n",
        "5. potenciar (a -> base, b -> potencia)\n",
        "6.primos (validar si ambos son primos)\n",
        "\n",
        "Ingrese el numero de operacion: 3\n",
        "\n",
        "n1= 3\n",
        "n2= 37\n",
        "\n",
        "3 * 9 = 27\n",
        "\n",
        "ambos son primos\n",
        "\n",
        "¿Desea repartir el menu? (1 para si, 2 para no):2\n",
        "\n",
        "\n",
        "Adios"
      ],
      "metadata": {
        "id": "gsaJs4jzLPUI"
      }
    },
    {
      "cell_type": "code",
      "source": [
        "def es_primo(n):\n",
        "    return n > 1 and all(n % i != 0 for i in range(2, int(n**0.5) + 1))\n",
        "\n",
        "while True:\n",
        "    # Mostrar el menú\n",
        "    print(\"\\nCalculadora:\")\n",
        "    print(\"1. Sumar\")\n",
        "    print(\"2. Restar\")\n",
        "    print(\"3. Multiplicar\")\n",
        "    print(\"4. Dividir\")\n",
        "    print(\"5. Potenciar (a -> base, b -> potencia)\")\n",
        "    print(\"6. Validar si ambos números son primos\")\n",
        "    print(\"7. Calcular la raíz cuadrada del primer número\")\n",
        "\n",
        "    op = int(input(\"Ingrese el número de operación (1-7): \"))\n",
        "    if op not in range(1, 8):\n",
        "        print(\"Operación inválida. Intente de nuevo.\")\n",
        "        continue\n",
        "\n",
        "    # Solicitar dos números para todas las operaciones\n",
        "    n1 = int(input(\"Ingrese el primer número: \"))\n",
        "    n2 = int(input(\"Ingrese el segundo número: \"))\n",
        "\n",
        "    if op == 1:\n",
        "        print(f\"{n1} + {n2} = {n1 + n2}\")\n",
        "    elif op == 2:\n",
        "        print(f\"{n1} - {n2} = {n1 - n2}\")\n",
        "    elif op == 3:\n",
        "        print(f\"{n1} * {n2} = {n1 * n2}\")\n",
        "    elif op == 4:\n",
        "        print(f\"{n1} / {n2} = {n1 / n2}\" if n2 != 0 else \"No se puede dividir entre 0.\")\n",
        "    elif op == 5:\n",
        "        print(f\"{n1} ^ {n2} = {n1 ** n2}\")\n",
        "    elif op == 6:\n",
        "        if es_primo(n1) and es_primo(n2):\n",
        "            print(\"Ambos números son primos.\")\n",
        "        else:\n",
        "            print(\"No todos los números son primos.\")\n",
        "    elif op == 7:\n",
        "        if n1 >= 0:\n",
        "            print(f\"La raíz cuadrada de {n1} es {n1**0.5:.2f}\")\n",
        "            print(f\"La raíz cuadrada de {n2} es {n2**0.5:.2f}\")\n",
        "        else:\n",
        "            print(\"No se puede calcular la raíz cuadrada de un número negativo.\")\n",
        "\n",
        "    # Validación de entrada para repetir el menú\n",
        "    while True:\n",
        "        repetir = int(input(\"\\n¿Repetir menú? (1: Sí, 2: No): \"))\n",
        "        if repetir == 1:\n",
        "            break\n",
        "        elif repetir == 2:\n",
        "            print(\"Adiós.\")\n",
        "            exit()\n",
        "        else:\n",
        "            print(\"Opción inválida. Por favor, elija 1 o 2.\")\n"
      ],
      "metadata": {
        "colab": {
          "base_uri": "https://localhost:8080/"
        },
        "id": "Zs7NUkKRhTFV",
        "outputId": "123c8783-2adf-4700-83e1-709094dacf39"
      },
      "execution_count": null,
      "outputs": [
        {
          "output_type": "stream",
          "name": "stdout",
          "text": [
            "\n",
            "Calculadora:\n",
            "1. Sumar\n",
            "2. Restar\n",
            "3. Multiplicar\n",
            "4. Dividir\n",
            "5. Potenciar (a -> base, b -> potencia)\n",
            "6. Validar si ambos números son primos\n",
            "7. Calcular la raíz cuadrada del primer número\n"
          ]
        }
      ]
    }
  ],
  "metadata": {
    "colab": {
      "toc_visible": true,
      "provenance": [],
      "include_colab_link": true
    },
    "kernelspec": {
      "display_name": "Python 3",
      "name": "python3"
    }
  },
  "nbformat": 4,
  "nbformat_minor": 0
}