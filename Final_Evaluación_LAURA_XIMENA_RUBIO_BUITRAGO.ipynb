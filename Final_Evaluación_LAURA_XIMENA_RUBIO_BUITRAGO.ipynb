{
  "cells": [
    {
      "cell_type": "markdown",
      "metadata": {
        "id": "view-in-github",
        "colab_type": "text"
      },
      "source": [
        "<a href=\"https://colab.research.google.com/github/laura-rubio213/introduccion-de-ingieneria/blob/main/Final_Evaluaci%C3%B3n_LAURA_XIMENA_RUBIO_BUITRAGO.ipynb\" target=\"_parent\"><img src=\"https://colab.research.google.com/assets/colab-badge.svg\" alt=\"Open In Colab\"/></a>"
      ]
    },
    {
      "cell_type": "markdown",
      "metadata": {
        "id": "4NGwgRGZYTmf"
      },
      "source": [
        "# Evaluación Final - Primer Corte (30%)"
      ]
    },
    {
      "cell_type": "markdown",
      "metadata": {
        "id": "ySRQL0y4YTmi"
      },
      "source": [
        "## Instrucciones"
      ]
    },
    {
      "cell_type": "markdown",
      "metadata": {
        "id": "ZZl26pw3YTmj"
      },
      "source": [
        "**Duración:** 04 - 06 horas\n",
        "\n",
        "**Objetivo:** Evaluar las capacidades de resolución de problemas básicos e intermedios haciendo uso de sus habilidades en codificación con Python.\n",
        "\n",
        "**Entrega Final:** Deberás enviar este mismo documento con extensión `.ipynb` con la solución a los ejercicios planteados.\n",
        "\n",
        "**Observaciones**: Para los ejercicios planteados, ***NO debes modificar*** el nombre del método, las variables ni el tipo de retorno. Esto es fundamental, ya que cada ejercicio cuenta con pruebas automatizadas que evaluarán tu solución.\n",
        "\n",
        "Ejemplo:\n",
        "\n",
        "Escribe una función que imprima el mensaje \"Hola Mundo\"\n",
        "\n",
        "```py\n",
        "def great():\n",
        "    # Insert code here\n",
        "    pass\n",
        "\n",
        "great()\n",
        "```\n",
        "\n",
        "✅ *Lo que debes hacer*: Como estudiante, debes eliminar la línea con el comentario `# Insert code here` y la línea `pass`, reemplazándolas con tu solución.\n",
        "\n",
        "```py\n",
        "def great():\n",
        "    print(\"Hola Mundo\")\n",
        "\n",
        "great()\n",
        "```\n",
        "\n",
        "❌ *Lo que **NO** debes hacer:* Si cambias el nombre del método, el código de prueba automatizado fallará y tu respuesta será invalidada.\n",
        "\n",
        "```py\n",
        "def decir_hola(): # ❌ El nombre del método no coincide con lo solicitado.\n",
        "    print(\"Hola Mundo\")\n",
        "\n",
        "decir_hola()\n",
        "```\n",
        "\n",
        "***⚠️ Importante:***\n",
        "\n",
        "- Respeta el formato de salida tal como se indica en el enunciado del ejercicio.\n",
        "- No modifiques nombres de funciones ni estructuras predefinidas, ya que esto hará que las pruebas no reconozcan tu código y la evaluación no sea válida.\n",
        "\n",
        "***☠️ Alerta:***\n",
        "\n",
        "- El trabajo es individual\n",
        "- Cualquier caso de fraude será reportado para iniciar proceso disciplinario\n",
        "- El código creado debe estar documentado, de lo contrario no será un punto valido."
      ]
    },
    {
      "cell_type": "markdown",
      "metadata": {
        "id": "JFDY-T_eYTml"
      },
      "source": [
        "## Zona de Ejercicios"
      ]
    },
    {
      "cell_type": "markdown",
      "metadata": {
        "id": "rmn3vlmgYTmm"
      },
      "source": [
        "|Ejercicio|Tiempo Estimado Óptimo|Tiempo Acumulado|# Test programados|Nota máxima|\n",
        "|--|--|--|--|--|\n",
        "|[Ejercicio 01: Calculadora de IMC](#ejercicio-01-calculadora-de-imc)|10 minutos|10 minutos|4|0.363636|\n",
        "|[Ejercicio 02: Número Primo](#ejercicio-02-número-primo)|15 minutos|25 minutos|6|0.545454|\n",
        "|[Ejercicio 03: Calculadora Básica](#ejercicio-03-calculadora-básica)|15 minutos|40 minutos|6|0.545454|\n",
        "|[Ejercicio 04: Conversión de Temperatura](#ejercicio-04-conversión-de-temperaturas)|30 minutos|1 hora 10 minutos|7|0.636363|\n",
        "|[Ejercicio 05: Sumatoria de Números Pares](#ejercicio-05-sumatoria-de-números-pares)|10 minutos|1 hora 20 minutos|4|0.363636|\n",
        "|[Ejercicio 06: Serie de Fibonacci](#ejercicio-06-serie-de-fibonacci)|20 minutos|1 hora 40 minutos|4|0.363636|\n",
        "|[Ejercicio 07: Palíndromo](#ejercicio-07-palíndromo)|20 minutos|2 horas|5|0.454545|\n",
        "|[Ejercicio 08: Juego de Adivinanza de Números](#ejercicio-08-juego-de-adivinanza-de-números)|30 minutos|2 horas 30 minutos|3|0.272727|\n",
        "|[Ejercicio 09: Ordenar una Lista de Números](#ejercicio-09-ordenar-una-lista-de-números)|20 minutos|2 horas 50 minutos|4|0.363636|\n",
        "|[Ejercicio 10: Factorial de un Número](#ejercicio-10-factorial-de-un-número)|10 minutos|3 horas|4|0.363636|\n",
        "|[Ejercicio 11: Contar Vocales y Consonantes](#ejercicio-11-contar-vocales-y-consonantes)|20 minutos|3 horas 20 minutos|4|0.363636|\n",
        "|[Ejercicio 12: Cifrado César](#ejercicio-12-cifrado-césar)|40 minutos|4 horas|4|0.363636|"
      ]
    },
    {
      "cell_type": "markdown",
      "metadata": {
        "id": "1G8Fs_2lYTmn"
      },
      "source": [
        "### Ejercicio 01: Calculadora de IMC"
      ]
    },
    {
      "cell_type": "markdown",
      "metadata": {
        "id": "HFgGoZIxYTmn"
      },
      "source": [
        "**Nivel:** Básico\n",
        "\n",
        "**Enunciado:**\n",
        "\n",
        "Escribe un programa que calcule el Índice de Masa Corporal (IMC) de una persona. El IMC se calcula con la fórmula: IMC = peso(kg)/(altura(m)^2)\n",
        "\n",
        "El programa debe solicitar al usuario su peso en kilogramos y su altura en metros, y luego mostrar su IMC clasificado en una de las siguientes categorías:\n",
        "\n",
        "- Bajo peso: IMC menor a 18.5\n",
        "- Peso normal: IMC entre 18.5 y 24.9\n",
        "- Sobrepeso: IMC entre 25 y 29.9\n",
        "- Obesidad: IMC 30 o mayor\n",
        "\n",
        "**Ejemplo de salida:**\n",
        "\n",
        "```txt\n",
        "Ingrese su peso en kg: 70  \n",
        "Ingrese su altura en m: 1.75\n",
        "\n",
        "Su IMC es: 22.86 (Peso normal)\n",
        "```\n",
        "\n",
        "**Tiempo estimado de solución:** 10 minutos\n",
        "\n",
        "**Pista:** Usa condicionales para clasificar el IMC en las categorías indicadas."
      ]
    },
    {
      "cell_type": "code",
      "source": [
        "def calculate_bmi(weight: float, height: float) -> str: ## Definimos función\n",
        "  IMC = round(weight / height**2, 2) ## Con IMC definimos la altura sobre peso al cuadrado, para ello usamos round da dos decimales como resultado\n",
        "  if IMC < 18.5: ## Se pregunta, osea que si es menor a 18.5\n",
        "    return \"Su IMC es: \"+ str(IMC) + \" (Bajo peso)\" ##  Si se cumple Imprime el resultado de bajo peso\n",
        "  elif 18.5 < IMC < 24.9: ## Se vuelve a preguntar, osea que si esta entre 18.5 o 24.9\n",
        "    return  \"Su IMC es: \"+ str(IMC) + \" (Peso normal)\"## Si es asi imprime como resultado que esta en un peso normal\n",
        "  if 25 < IMC < 29.9:## Se pregunta que si el IMC esta entre 25 y 2.9\n",
        "    return \"Su IMC es: \"+ str(IMC) + \" (Sobrepeso)\"## Si es asi imprime que su IMC esta en sobrepeso\n",
        "  if IMC > 30: ## Se pregunta que si esta en 30 el IMC\n",
        "    return \"Su IMC es: \"+ str(IMC) + \" (Obesidad)\"## Dara como resultado que estara en obesidad\n",
        "  pass\n"
      ],
      "metadata": {
        "id": "SuL0LpOPYyUj"
      },
      "execution_count": 47,
      "outputs": []
    },
    {
      "cell_type": "code",
      "execution_count": 13,
      "metadata": {
        "colab": {
          "base_uri": "https://localhost:8080/"
        },
        "id": "3kjzPda8YTmq",
        "outputId": "b4a74e8b-22bf-42ae-c40d-6ab49a87458a"
      },
      "outputs": [
        {
          "output_type": "stream",
          "name": "stdout",
          "text": [
            "Ingrese su peso en kg: 70\n",
            "Ingrese su altura en m: 1.75\n",
            "Su IMC es: 22.86 (Peso normal)\n"
          ]
        }
      ],
      "source": [
        "weight = float(input(\"Ingrese su peso en kg: \"))\n",
        "height = float(input(\"Ingrese su altura en m: \"))\n",
        "\n",
        "print(calculate_bmi(weight, height))"
      ]
    },
    {
      "cell_type": "markdown",
      "metadata": {
        "id": "aUZxv2aQYTmr"
      },
      "source": [
        "### Ejercicio 02: Número Primo"
      ]
    },
    {
      "cell_type": "markdown",
      "metadata": {
        "id": "SEw_LUJrYTms"
      },
      "source": [
        "**Nivel:** Básico\n",
        "\n",
        "**Enunciado:**\n",
        "\n",
        "Escribe un programa que determine si un número entero positivo ingresado por el usuario es un número primo o no. Un número primo es aquel que solo tiene dos divisores: 1 y él mismo.\n",
        "\n",
        "**Ejemplo de salida:**\n",
        "\n",
        "```txt\n",
        "Ingrese un número entero positivo: 29  \n",
        "El número 29 es primo.\n",
        "```\n",
        "\n",
        "```txt\n",
        "Ingrese un número entero positivo: 18  \n",
        "El número 18 no es primo.\n",
        "```\n",
        "\n",
        "**Tiempo estimado de solución:** 15 minutos\n",
        "\n",
        "**Pista:** Un número primo no es divisible por ningún número entero entre 2 y su raíz cuadrada."
      ]
    },
    {
      "cell_type": "code",
      "source": [
        "def is_prime(number: int) -> bool: ## Definimos la función booleana\n",
        "\n",
        "    if number < 2:## Se pregunta que si es numero menor que 2\n",
        "       return False ## Se muestra que es falso si cumple la condición\n",
        "    for i in range(2, int(number ** 0.5) + 1): ## Para x en un rango de 2 a la raiz de x:\n",
        "      if number % i == 0: ## Se pregunta si el producto de la divión\n",
        "       return False ## Se muestra que es falso si se cumple la condición\n",
        "    else: ## Si no cumple ninguna condicón entonces\n",
        "     return True ## Se muestra que es verdadero"
      ],
      "metadata": {
        "id": "nwXJsGs8ZAmv"
      },
      "execution_count": 48,
      "outputs": []
    },
    {
      "cell_type": "code",
      "execution_count": null,
      "metadata": {
        "colab": {
          "base_uri": "https://localhost:8080/"
        },
        "id": "Pxo7PYDgYTmt",
        "outputId": "e9480f73-3dbf-4437-cde8-be4913137697"
      },
      "outputs": [
        {
          "output_type": "stream",
          "name": "stdout",
          "text": [
            "Ingrese un número entero positivo: 18\n",
            "El número 18 no es primo\n"
          ]
        }
      ],
      "source": [
        "number = int(input(\"Ingrese un número entero positivo: \"))\n",
        "\n",
        "print(f\"El número {number} es primo\") if is_prime(number) else print(f\"El número {number} no es primo\")"
      ]
    },
    {
      "cell_type": "markdown",
      "metadata": {
        "id": "JQciUeCMYTmt"
      },
      "source": [
        "### Ejercicio 03: Calculadora Básica"
      ]
    },
    {
      "cell_type": "markdown",
      "metadata": {
        "id": "ZykCLWRVYTmt"
      },
      "source": [
        "**Nivel:** Básico\n",
        "\n",
        "**Enunciado:**\n",
        "\n",
        "Crea un programa que actúe como una calculadora simple. El usuario debe ingresar dos números y un operador (+, -, *, /). El programa debe mostrar el resultado de la operación.\n",
        "\n",
        "Si el usuario intenta dividir por cero, el programa debe mostrar un mensaje de error apropiado.\n",
        "\n",
        "Ejemplo de salida:\n",
        "\n",
        "```txt\n",
        "Ingrese el primer número: 8  \n",
        "Ingrese el segundo número: 4  \n",
        "Ingrese un operador (+, -, *, /): /  \n",
        "El resultado es: 2.0\n",
        "```\n",
        "\n",
        "```txt\n",
        "Ingrese el primer número: 10  \n",
        "Ingrese el segundo número: 0  \n",
        "Ingrese un operador (+, -, *, /): /  \n",
        "Error: División por cero no permitida.\n",
        "```\n",
        "\n",
        "```txt\n",
        "Ingrese el primer número: 10  \n",
        "Ingrese el segundo número: 0  \n",
        "Ingrese un operador (+, -, *, /): %  \n",
        "Error: Operador no válido.\n",
        "```\n",
        "\n",
        "**Tiempo estimado de solución:** 15 minutos\n",
        "\n",
        "**Pista:** Usa condicionales para determinar la operación a realizar."
      ]
    },
    {
      "cell_type": "code",
      "source": [
        "def basic_calculator(num1: float, num2: float, operator: str) -> str: ##  Definimos la función calculadora\n",
        "    if operator == \"+\": ## Se pregunta si el operador es una suma\n",
        "        return f\"El resultado es: {num1 + num2:.1f}\"## Si es asi retorna la función que operó y da repuesta sumando los números\n",
        "    elif operator == \"-\": ## Se pregunta si el operador es una resta\n",
        "        return f\"El resultado es: {num1 - num2:.1f}\"##  Si es asi retorna la función que operó y da repuesta restando los números\n",
        "    elif operator == \"*\": ## Se pregunta si el operador es una multiplicacón\n",
        "        return f\"El resultado es: {num1 * num2:.1f}\"##  Si es asi retorna la función que operó y da repuesta multiplicando los números\n",
        "    elif operator == \"/\": ## Se pregunta si el operador es una división\n",
        "        if num2 == 0: ## Si es denominador es cero\n",
        "            return(\"Error: División por cero no permitida.\") ## Si es asi retorna la función que operó  y da respuesta que por cero no es permitida\n",
        "        else: ## entonces\n",
        "            return f\"El resultado es: {num1 / num2:.1f}\" ## Si es asi retorna la función que opero y da respuesta la divisón de los dos numeros\n",
        "    else: ## Si el usuario inserta un caracter incorrecto\n",
        "        return(\"Error: Operador no válido.\") ## Si es asi retorna y da como respuesta que no es validó que está mal\n",
        "pass"
      ],
      "metadata": {
        "id": "JnTj1dKhZZ6t"
      },
      "execution_count": 49,
      "outputs": []
    },
    {
      "cell_type": "code",
      "execution_count": 4,
      "metadata": {
        "colab": {
          "base_uri": "https://localhost:8080/"
        },
        "id": "mGwOgT8uYTmu",
        "outputId": "fd5d9c0d-9216-4031-aab1-ce4498880a94"
      },
      "outputs": [
        {
          "output_type": "stream",
          "name": "stdout",
          "text": [
            "Ingrese el primer número: 8\n",
            "Ingrese el segundo número: 4\n",
            "Ingrese el operador (+, -, *, /): /\n",
            "El resultado es: 2.0\n"
          ]
        }
      ],
      "source": [
        "\n",
        "num1 = float(input(\"Ingrese el primer número: \"))\n",
        "num2 = float(input(\"Ingrese el segundo número: \"))\n",
        "operator = input(\"Ingrese el operador (+, -, *, /): \")\n",
        "\n",
        "print(basic_calculator(num1, num2, operator))"
      ]
    },
    {
      "cell_type": "markdown",
      "metadata": {
        "id": "TWic5MnIYTmu"
      },
      "source": [
        "### Ejercicio 04: Conversión de Temperaturas"
      ]
    },
    {
      "cell_type": "markdown",
      "metadata": {
        "id": "ZDM4kpM0YTmu"
      },
      "source": [
        "**Nivel:** Básico\n",
        "\n",
        "**Enunciado:**\n",
        "\n",
        "Crea un programa que convierta temperaturas entre Celsius, Fahrenheit y Kelvin. El usuario debe ingresar un valor numérico y especificar la escala actual (C, F o K) y la escala a la que quiere convertir.\n",
        "\n",
        "**Fórmulas de conversión:**\n",
        "\n",
        "* De Celsius a Fahrenheit: F = C × (9/5) + 32\n",
        "* De Celsius a Kelvin: K = C + 273.15\n",
        "* De Fahrenheit a Celsius: C = (F − 32) × (5/9)\n",
        "* De Fahrenheit a Kelvin: K = (F − 32) × (5/9) + 273.15\n",
        "* De Kelvin a Celsius: C = K − 273.15\n",
        "* De Kelvin a Fahrenheit: F = (K − 273.15) × (9/5) + 32\n",
        "\n",
        "**Ejemplo de salida:**\n",
        "\n",
        "```txt\n",
        "Ingrese la temperatura: 100  \n",
        "Ingrese la escala actual (C, F o K): C  \n",
        "Ingrese la escala a convertir (C, F o K): F  \n",
        "El resultado es: 212.0 °F\n",
        "```\n",
        "\n",
        "**Tiempo estimado de solución:** 30 minutos\n",
        "\n",
        "**Pista:** Usa condicionales y funciones para las diferentes conversiones."
      ]
    },
    {
      "cell_type": "code",
      "execution_count": 50,
      "metadata": {
        "id": "___4lxGJYTmv"
      },
      "outputs": [],
      "source": [
        "def convert_temperature(value: float, from_scale: str, to_scale: str) -> str:#Se define al usuario  la función para convertir temperatura\n",
        "    if from_scale.upper() not in (\"C\", \"F\", \"K\") or to_scale.upper() not in (\"C\", \"F\", \"K\"): ## Se pregunta si las escalas no es C F o K mayúscula\n",
        "      return \"Error: Escala actual no válida.\" ##Si es asi entonces imprime Error escala actual no válida\n",
        "    def convert_C_to_F():#Se pregunta al usuario  la función para pasar de Celsius a Fahrenheit\n",
        "        return value * (9/5) + 32 #Se retorna el resultado de la función aplicando la ecuación\n",
        "    def convert_C_to_K():#Se pregunta al usuario  la función para pasar de Celsius a Kelvin\n",
        "        return value + 273.15 #Se retorna el resultado de la función aplicando la ecuación\n",
        "    def convert_F_to_C():#Se pregunta al usuario  la función para pasar de Fahrenheit a Celsius\n",
        "        return (value - 32) * (5/9) #Se retorna el resultado de la función aplicando la ecuación\n",
        "    def convert_F_to_K():#Se pregunta al usuario  la función para pasar de Fahrenheit a Kelvin\n",
        "        return (value - 32) * (5/9) + 273.15 #Se retorna el resultado de la función aplicando la ecuación\n",
        "    def convert_K_to_C():#Se pregunta al usuario  la función para pasar de Kelvin a Celsius\n",
        "        return value - 273.15 #Se retorna el resultado de la función aplicando la ecuación\n",
        "    def convert_K_to_F():#Se pregunta al usuario  la función para pasar de Kelvin a Fahrenheit\n",
        "        return (value - 273.15) * (9/5) + 32 #Se retorna el resultado de la función aplicando la ecuación\n",
        "\n",
        "    if from_scale.upper() == \"C\" and to_scale.upper() == \"F\": #Se condicionan las escalas de temperatura ingresadas por el usuario\n",
        "        return f\"El resultado es: {convert_C_to_F():.2f} °F\" #Si se cumple la condición, se retorna el resultado de la función ya operada\n",
        "    elif from_scale.upper() == \"C\" and to_scale.upper() == \"K\":  #Se condicionan las escalas de temperatura ingresadas por el usuario\n",
        "        return f\"El resultado es: {convert_C_to_K():.2f} °K\" #Si se cumple la condición, se retorna el resultado de la función ya operada\n",
        "    elif from_scale.upper() == \"F\" and to_scale.upper() == \"C\":  #Se condicionan las escalas de temperatura ingresadas por el usuario\n",
        "        return f\"El resultado es: {convert_F_to_C():.2f} °C\" #Si se cumple la condición, se retorna el resultado de la función ya operada\n",
        "    elif from_scale.upper() == \"F\" and to_scale.upper() == \"K\":  #Se condicionan las escalas de temperatura ingresadas por el usuario\n",
        "        return f\"El resultado es: {convert_F_to_K():.2f} °K\" #Si se cumple la condición, se retorna el resultado de la función ya operada\n",
        "    elif from_scale.upper() == \"K\" and to_scale.upper() == \"C\":  #Se condicionan las escalas de temperatura ingresadas por el usuario\n",
        "        return f\"El resultado es: {convert_K_to_C():.2f} °C\" #Si se cumple la condición, se retorna el resultado de la función ya operada\n",
        "    elif from_scale.upper() == \"K\" and to_scale.upper() == \"F\":  #Se condicionan las escalas de temperatura ingresadas por el usuario\n",
        "        return f\"El resultado es: {convert_K_to_F():.2f} °F\" #Si se cumple la condición, se retorna el resultado de la función ya operada\n",
        "pass"
      ]
    },
    {
      "cell_type": "code",
      "execution_count": null,
      "metadata": {
        "colab": {
          "base_uri": "https://localhost:8080/"
        },
        "id": "ECYnosM3YTmv",
        "outputId": "4f4dd4cc-8d3b-48a4-d8a2-5e9efdac97d4"
      },
      "outputs": [
        {
          "output_type": "stream",
          "name": "stdout",
          "text": [
            "Ingrese la temperatura: 100\n",
            "Ingrese la escala actual (C, F, K): C\n",
            "Ingrese la escala a convertir (C, F, K): F\n",
            "El resultado es: 212.00 °F\n"
          ]
        }
      ],
      "source": [
        "value = float(input(\"Ingrese la temperatura: \"))\n",
        "from_scale = input(\"Ingrese la escala actual (C, F, K): \")\n",
        "to_scale = input(\"Ingrese la escala a convertir (C, F, K): \")\n",
        "\n",
        "print(convert_temperature(value, from_scale, to_scale))"
      ]
    },
    {
      "cell_type": "markdown",
      "metadata": {
        "id": "bwIm0ubTYTmw"
      },
      "source": [
        "### Ejercicio 05: Sumatoria de Números Pares"
      ]
    },
    {
      "cell_type": "markdown",
      "metadata": {
        "id": "ay7rQw1HYTmw"
      },
      "source": [
        "**Nivel:** Básico\n",
        "\n",
        "**Enunciado:**\n",
        "\n",
        "Escribe un programa que calcule la sumatoria de todos los números pares entre 1 y un número entero positivo ingresado por el usuario.\n",
        "\n",
        "**Ejemplo de salida:**\n",
        "\n",
        "```txt\n",
        "Ingrese un número entero positivo: 10  \n",
        "La suma de los números pares entre 1 y 10 es: 30\n",
        "```\n",
        "\n",
        "**Tiempo estimado de solución:** 10 minutos\n",
        "\n",
        "**Pista:** Usa un bucle for o while con una condición que sume solo los números pares."
      ]
    },
    {
      "cell_type": "code",
      "execution_count": 51,
      "metadata": {
        "id": "UPN0v5M9YTmx"
      },
      "outputs": [],
      "source": [
        "def sum_even_numbers(limit: list) -> int: ## Se define la funcion sumatoria de números pares\n",
        "\n",
        "    total_suma = 0 ## Se asigna el falor a cero\n",
        "    for i in range(1, limit + 1): ## El intervalo cerrado toma los números y el abierto no, y como en este caso no toma los números entonces debemos sumarle un 1 al último número para que lo tome\n",
        "        if i % 2 == 0: ## Se pregunta si el número divido en 2 es cero es par\n",
        "            total_suma += i  ## Si es asi se le suma a números pares el valor del otro número\n",
        "    return total_suma ## Retorna el resultado final osea pares\n",
        "pass"
      ]
    },
    {
      "cell_type": "code",
      "execution_count": null,
      "metadata": {
        "colab": {
          "base_uri": "https://localhost:8080/"
        },
        "id": "8VkSPgTMYTmx",
        "outputId": "f3f3de03-973c-42b7-e8db-b03df83497f9"
      },
      "outputs": [
        {
          "output_type": "stream",
          "name": "stdout",
          "text": [
            "Ingrese un número entero positivo: 10\n",
            "La suma de los números pares entre 1 y 10 es: 30\n"
          ]
        }
      ],
      "source": [
        "limit = int(input(\"Ingrese un número entero positivo: \"))\n",
        "\n",
        "print(f\"La suma de los números pares entre 1 y {limit} es: {sum_even_numbers(limit)}\")"
      ]
    },
    {
      "cell_type": "markdown",
      "metadata": {
        "id": "m4FVqreNYTmy"
      },
      "source": [
        "### Ejercicio 06: Serie de Fibonacci"
      ]
    },
    {
      "cell_type": "markdown",
      "metadata": {
        "id": "LoHR1x87YTmy"
      },
      "source": [
        "**Nivel:** Intermedio\n",
        "\n",
        "**Enunciado:**\n",
        "\n",
        "Crea un programa que genere y muestre la serie de Fibonacci hasta un número `n` ingresado por el usuario. La serie de Fibonacci se genera sumando los dos números anteriores, comenzando por 0 y 1.\n",
        "\n",
        "**Ejemplo de salida:**\n",
        "\n",
        "```txt\n",
        "Ingrese un número entero positivo: 10  \n",
        "Serie de Fibonacci hasta 10: 0, 1, 1, 2, 3, 5, 8\n",
        "```\n",
        "\n",
        "**Tiempo estimado de solución:** 20 minutos\n",
        "\n",
        "**Pista:** Usa un bucle while para generar la serie hasta que el siguiente número sea mayor que `n`."
      ]
    },
    {
      "cell_type": "code",
      "execution_count": 52,
      "metadata": {
        "id": "4B504EjNYTmy"
      },
      "outputs": [],
      "source": [
        "def fibonacci_series(limit: int) -> list[int]: ## Se define la función serie de fibonacci\n",
        "\n",
        "    fib_series = [] ## Creamos una lista\n",
        "    a, b = 0, 1 ## S e asigna valores a , b\n",
        "    if limit < 0: ## Si es menor a cero\n",
        "      return [] ## Se retorna un espacio vacío\n",
        "    if limit == 0:\n",
        "      return [0, 1]\n",
        "    while a <= limit: ## Mientras a sea menor al límite\n",
        "        fib_series.append(a) ## Se ingresa a la lista el límite y la secuencia\n",
        "        a, b = b, a + b ## Se asiganr valores y se suman entre si\n",
        "\n",
        "    return fib_series ##Se retorna la lista\n",
        "pass"
      ]
    },
    {
      "cell_type": "code",
      "execution_count": null,
      "metadata": {
        "colab": {
          "base_uri": "https://localhost:8080/"
        },
        "id": "X9UlmL4EYTmy",
        "outputId": "d80c7e4a-3e12-49ab-c552-6ecfcf5bbe9d"
      },
      "outputs": [
        {
          "output_type": "stream",
          "name": "stdout",
          "text": [
            "Ingrese un número entero positivo: 0\n",
            "Serie de Fibonacci hasta 0: 0, 1\n"
          ]
        }
      ],
      "source": [
        "limit = int(input(\"Ingrese un número entero positivo: \"))\n",
        "\n",
        "print(f\"Serie de Fibonacci hasta {limit}: {', '.join(map(str, fibonacci_series(limit)))}\")"
      ]
    },
    {
      "cell_type": "markdown",
      "metadata": {
        "id": "zqBJbawYYTmz"
      },
      "source": [
        "### Ejercicio 07: Palíndromo"
      ]
    },
    {
      "cell_type": "markdown",
      "metadata": {
        "id": "sFgD59wrYTmz"
      },
      "source": [
        "**Nivel:** Intermedio\n",
        "\n",
        "**Enunciado:**\n",
        "\n",
        "Escribe un programa que determine si una palabra o frase ingresada por el usuario es un palíndromo, ignorando espacios, mayúsculas y acentos. Un palíndromo se lee igual de izquierda a derecha que de derecha a izquierda.\n",
        "\n",
        "**Ejemplo de salida:**\n",
        "\n",
        "```txt\n",
        "Ingrese una palabra o frase: Anita lava la tina  \n",
        "\"Anita lava la tina\" es un palíndromo.\n",
        "```\n",
        "\n",
        "```txt\n",
        "Ingrese una palabra o frase: Hola mundo  \n",
        "\"Hola mundo\" no es un palíndromo.\n",
        "```\n",
        "\n",
        "**Tiempo estimado de solución:** 20 minutos\n",
        "\n",
        "**Pista:** Convierte la entrada a minúsculas y elimina los espacios y acentos antes de evaluar."
      ]
    },
    {
      "cell_type": "code",
      "execution_count": 53,
      "metadata": {
        "id": "OK817fF9YTmz"
      },
      "outputs": [],
      "source": [
        "def is_palindrome(text: str) -> bool: ## Definimos la función palíndro\n",
        "\n",
        "    clean_t = text.lower().replace(\" \", \"\") #Se convierte todo a minúsculas y se quitan los espacios\n",
        "\n",
        "    acentos = {'á': 'a', 'é': 'e', 'í': 'i', 'ó': 'o', 'ú': 'u', 'ü': 'u'}#Se hace una lista con los acentos\n",
        "\n",
        "    for acento, palabra_sin_acento in acentos.items(): #Para cada acento y palabra_sin_acento en la lista recorrida\n",
        "        clean_t = clean_t.replace(acento, palabra_sin_acento) #Reemplazamos los acentos por letras sin acento\n",
        "\n",
        "    return clean_t == clean_t[::-1] # Se compara la lista clean con su reverso, retorna verdadero o falso"
      ]
    },
    {
      "cell_type": "code",
      "execution_count": 11,
      "metadata": {
        "id": "-ifwi5SGYTmz",
        "colab": {
          "base_uri": "https://localhost:8080/"
        },
        "outputId": "069e5e9d-34c0-4e10-c581-1e50bf8bc0f2"
      },
      "outputs": [
        {
          "output_type": "stream",
          "name": "stdout",
          "text": [
            "Ingrese una palabra o frase: Z o O rr ó O z\n",
            "\"Z o O rr ó O z\" es un palíndromo.\n"
          ]
        }
      ],
      "source": [
        "text = input(\"Ingrese una palabra o frase: \")\n",
        "\n",
        "print(f'\"{text}\" es un palíndromo.') if is_palindrome(text) else print(f'\"{text}\" no es un palíndromo.')"
      ]
    },
    {
      "cell_type": "markdown",
      "metadata": {
        "id": "6ll4-BNcYTm0"
      },
      "source": [
        "### Ejercicio 08: Juego de Adivinanza de Números"
      ]
    },
    {
      "cell_type": "markdown",
      "metadata": {
        "id": "8vTTy9ZtYTm0"
      },
      "source": [
        "**Nivel:** Intermedio\n",
        "\n",
        "**Enunciado:**\n",
        "\n",
        "Crea un programa que genere un número aleatorio entre 1 y 100. El usuario debe intentar adivinarlo. Después de cada intento, el programa debe indicar si el número ingresado es demasiado alto, demasiado bajo o correcto. Al acertar, debe mostrar la cantidad de intentos realizados.\n",
        "\n",
        "**Ejemplo de salida:**\n",
        "\n",
        "\n",
        "```txt\n",
        "Adivina el número (entre 1 y 100): 50  \n",
        "Muy alto. Intenta nuevamente.  \n",
        "Adivina el número (entre 1 y 100): 25  \n",
        "Muy bajo. Intenta nuevamente.  \n",
        "Adivina el número (entre 1 y 100): 37  \n",
        "¡Correcto! Adivinaste el número en 3 intentos.\n",
        "```\n",
        "\n",
        "**Tiempo estimado de solución:** 30 minutos\n",
        "\n",
        "**Pista:** Usa el módulo random para generar el número aleatorio."
      ]
    },
    {
      "cell_type": "code",
      "execution_count": 54,
      "metadata": {
        "id": "xH8nZsWPYTm1"
      },
      "outputs": [],
      "source": [
        "from random import randint ## Se define la función adivinanza de números\n",
        "\n",
        "def guess_number() -> None:## Define la función guess_number\n",
        "    intentos = 1 ## Definimos o asignamos aintentos\n",
        "    computadora = randint(1, 100)## Pide a la computadora un número de uno a cien\n",
        "    number = int(input('Adivina el número (entre 1 y 100): ')) ## Pide al usuario que adivine un número del uno al cien\n",
        "    while number != computadora:## Mientras que el número sea diferente al de la computadora\n",
        "        if number > computadora: ## Si el número es mayor al de la computadora\n",
        "            intentos += 1 ## Se le suma uno a la variable de intentos\n",
        "            print('Muy alto. Intenta nuevamente.') ##Si es asi imprime que es muy alto y debe volver a intentar\n",
        "            number = int(input('Adivina el número (entre 1 y 100): ')) ## Vuele a preguntar otro numero hasta adivinarlo\n",
        "        elif number < computadora:## Si el númro es menor al de la  computadora\n",
        "            intentos += 1 ## Se le suma uno a la variable de intentos\n",
        "            print('Muy bajo. Intenta nuevamente.') ## Si es asi imprime que es muy bajo y que nuevamente intente\n",
        "            number = int(input('Adivina el número (entre 1 y 100): ')) ## Vuelve a preguntar otro número\n",
        "    print(f'¡Correcto! Adivinaste el número en {intentos} intentos.') ## Si logró adivinar imprime que adivinó el número\n",
        "\n",
        "pass"
      ]
    },
    {
      "cell_type": "code",
      "execution_count": null,
      "metadata": {
        "colab": {
          "base_uri": "https://localhost:8080/"
        },
        "id": "Sk7w-3xZYTm1",
        "outputId": "61873895-05dc-4ce8-9c21-357647fed262"
      },
      "outputs": [
        {
          "output_type": "stream",
          "name": "stdout",
          "text": [
            "Adivina el número (entre 1 y 100): 12\n",
            "Muy alto. Intenta nuevamente.\n",
            "Adivina el número (entre 1 y 100): 8\n",
            "Muy alto. Intenta nuevamente.\n",
            "Adivina el número (entre 1 y 100): 5\n",
            "Muy alto. Intenta nuevamente.\n",
            "Adivina el número (entre 1 y 100): 2\n",
            "Muy bajo. Intenta nuevamente.\n",
            "Adivina el número (entre 1 y 100): 3\n",
            "Muy bajo. Intenta nuevamente.\n",
            "Adivina el número (entre 1 y 100): 4\n",
            "¡Correcto! Adivinaste el número en 6 intentos.\n"
          ]
        }
      ],
      "source": [
        "guess_number()"
      ]
    },
    {
      "cell_type": "markdown",
      "metadata": {
        "id": "2vQ0OXH2YTm1"
      },
      "source": [
        "### Ejercicio 09: Ordenar una Lista de Números"
      ]
    },
    {
      "cell_type": "markdown",
      "metadata": {
        "id": "fizHN2vXYTm2"
      },
      "source": [
        "**Nivel:** Intermedio\n",
        "\n",
        "**Enunciado:**\n",
        "\n",
        "Crea un programa que permita al usuario ingresar una lista de números separados por comas. El programa debe ordenar la lista en orden ascendente y mostrarla al usuario.\n",
        "\n",
        "**Ejemplo de salida:**\n",
        "\n",
        "```txt\n",
        "Ingrese números separados por comas: 8, 3, 5, 1, 9, 2  \n",
        "Lista ordenada: 1, 2, 3, 5, 8, 9\n",
        "```\n",
        "\n",
        "**Tiempo estimado de solución:** 20 minutos\n",
        "\n",
        "**Pista:** Convierte la entrada del usuario a una lista de números y usa un método de ordenamiento."
      ]
    },
    {
      "cell_type": "code",
      "execution_count": 55,
      "metadata": {
        "id": "y44K5cLoYTm3"
      },
      "outputs": [],
      "source": [
        "def sort_numbers(numbers: str) -> str:## Se define la funcion ordenar lista de números\n",
        "    try: ## Condición\n",
        "        numbers_list = list(map(int, numbers.split(\",\"))) ## Lista de números ,mapeada osea para organizar\n",
        "        numbers_list.sort() ## Organizar de menor a mayor\n",
        "        sorted_numbers = \", \".join(map(str, numbers_list)) ## Cogemos la lista de números organizada y le ponemos la coma en la mitad de los números\n",
        "        return sorted_numbers ## Imprime la lista de números organizada\n",
        "    except ValueError: ## Si no pasa esa condición de solo números\n",
        "\n",
        "        return \"Error: Asegúrate de ingresar solo números separados por comas.\" ## Te dirá que debes de poner solamente números\n",
        "pass\n"
      ]
    },
    {
      "cell_type": "code",
      "execution_count": null,
      "metadata": {
        "colab": {
          "base_uri": "https://localhost:8080/"
        },
        "id": "qUULHjRGYTm4",
        "outputId": "bfe56eba-d069-47b8-b665-c360baf30eb8"
      },
      "outputs": [
        {
          "output_type": "stream",
          "name": "stdout",
          "text": [
            "Ingrese números separados por comas: 3, 9, 100, 50\n",
            "Lista ordenada: 3, 9, 50, 100\n"
          ]
        }
      ],
      "source": [
        "numbers = input(\"Ingrese números separados por comas: \")\n",
        "\n",
        "print(f\"Lista ordenada: {sort_numbers(numbers)}\")"
      ]
    },
    {
      "cell_type": "markdown",
      "metadata": {
        "id": "8lhXl7oVYTm4"
      },
      "source": [
        "### Ejercicio 10: Factorial de un Número"
      ]
    },
    {
      "cell_type": "markdown",
      "metadata": {
        "id": "tULm0Rs3YTm4"
      },
      "source": [
        "**Nivel:** Intermedio\n",
        "\n",
        "**Enunciado:**\n",
        "\n",
        "Escribe un programa que calcule el factorial de un número entero positivo ingresado por el usuario. El factorial de un número n se define como: n! = n x (n−1) x (n−2) x … x 1.\n",
        "\n",
        "Por definición, 0! = 1.\n",
        "\n",
        "**Ejemplo de salida:**\n",
        "\n",
        "```txt\n",
        "Ingrese un número entero positivo: 5  \n",
        "El factorial de 5 es: 120\n",
        "```\n",
        "\n",
        "**Tiempo estimado de solución:** 10 minutos\n",
        "\n",
        "**Pista:** Usa un bucle for o while para calcular el factorial."
      ]
    },
    {
      "cell_type": "code",
      "execution_count": 56,
      "metadata": {
        "id": "Tc_ehS4pYTm5"
      },
      "outputs": [],
      "source": [
        "def factorial(number: int) -> int:## Se define la función factorial de número\n",
        "  if number == 0 or number == 1: ## Si el número es igual acero o el número el igual a uno\n",
        "       return 1 ## Retorna uno osea muestra uno\n",
        "  if number < 0: ## Si es número es menor a cero\n",
        "    raise ValueError(\"ValueError not raised\") ## Retorna un valor de errores\n",
        "  result = 1 ## Dara como resultado uno\n",
        "  for i in range(2, number + 1): ## Para un rango de dos hasta el numero mas uno\n",
        "      result *= i ## Dara un resultado multiplicando los valores del rango\n",
        "  return result ## Retorna un resultado final\n",
        "pass\n"
      ]
    },
    {
      "cell_type": "code",
      "execution_count": null,
      "metadata": {
        "colab": {
          "base_uri": "https://localhost:8080/"
        },
        "id": "cOl_UCCyYTm5",
        "outputId": "8025363f-45fd-4695-f05f-de8d9ec3ab98"
      },
      "outputs": [
        {
          "output_type": "stream",
          "name": "stdout",
          "text": [
            "Ingrese un número entero positivo: 6\n",
            "El factorial de 6 es: 720\n"
          ]
        }
      ],
      "source": [
        "try:\n",
        "    number = int(input(\"Ingrese un número entero positivo: \"))\n",
        "    print(f\"El factorial de {number} es: {factorial(number)}\")\n",
        "except ValueError as e:\n",
        "    print(e)"
      ]
    },
    {
      "cell_type": "markdown",
      "metadata": {
        "id": "ueFcFZLTYTm5"
      },
      "source": [
        "### Ejercicio 11: Contar Vocales y Consonantes"
      ]
    },
    {
      "cell_type": "markdown",
      "metadata": {
        "id": "N3ZE9i1QYTm6"
      },
      "source": [
        "**Nivel:** Intermedio\n",
        "\n",
        "**Enunciado:**\n",
        "\n",
        "Crea un programa que permita al usuario ingresar una frase o palabra, y cuente cuántas vocales y cuántas consonantes contiene.\n",
        "\n",
        "**Ejemplo de salida:**\n",
        "\n",
        "```txt\n",
        "Ingrese una frase o palabra: Hola Mundo  \n",
        "Vocales: 4  \n",
        "Consonantes: 5\n",
        "```\n",
        "\n",
        "**Tiempo estimado de solución:** 20 minutos\n",
        "\n",
        "**Pista:** Usa un bucle for y el método .lower() para facilitar la comparación."
      ]
    },
    {
      "cell_type": "code",
      "execution_count": 57,
      "metadata": {
        "id": "tsnFJZOXYTm6"
      },
      "outputs": [],
      "source": [
        "def count_vowels_and_consonants(text: str) -> tuple[int, int]: ## Se define la variable contar vocales y consonantes\n",
        "\n",
        "    vowels = \"aeiou\" ## Determina vocales\n",
        "    vowel_count = 0 ## Dtermina contador de vocales\n",
        "    consonant_count = 0 ## Dtermina contador de consonantes\n",
        "\n",
        "    for Caracteres in text.lower(): ## para caracteres que esten en la entrada del usuario en minúscula\n",
        "        if Caracteres.isalpha(): ## Si todos los caracteres son letras\n",
        "            if Caracteres in vowels: ## Si los caracteres estan en vocales\n",
        "                vowel_count += 1 ## Entonces suma uno al contador de vocales\n",
        "            else: ## Sino\n",
        "                consonant_count += 1 ## Suma uno al contador de consonantes\n",
        "\n",
        "    return vowel_count, consonant_count ## Retorna las vocales y consonates\n",
        "pass"
      ]
    },
    {
      "cell_type": "code",
      "execution_count": null,
      "metadata": {
        "colab": {
          "base_uri": "https://localhost:8080/"
        },
        "id": "M6BLcByGYTm6",
        "outputId": "f92e432d-1012-4d11-bd2d-e3824a25e519"
      },
      "outputs": [
        {
          "output_type": "stream",
          "name": "stdout",
          "text": [
            "Ingrese una frase o palabra: Hola Mundo\n",
            "Vocales: 4\n",
            "Consonantes: 5\n"
          ]
        }
      ],
      "source": [
        "text = input(\"Ingrese una frase o palabra: \")\n",
        "\n",
        "vowels, consonants = count_vowels_and_consonants(text)\n",
        "print(f\"Vocales: {vowels}\")\n",
        "print(f\"Consonantes: {consonants}\")"
      ]
    },
    {
      "cell_type": "markdown",
      "metadata": {
        "id": "WyrSXY0lYTm6"
      },
      "source": [
        "### Ejercicio 12: Cifrado César"
      ]
    },
    {
      "cell_type": "markdown",
      "metadata": {
        "id": "k3XPCMF0YTm7"
      },
      "source": [
        "**Nivel:** Intermedio\n",
        "\n",
        "**Enunciado:**\n",
        "\n",
        "Crea un programa que implemente un Cifrado César. Este método cifra un mensaje desplazando cada letra un número fijo de posiciones en el alfabeto. El usuario debe ingresar el mensaje y el desplazamiento.\n",
        "\n",
        "**Ejemplo de salida:**\n",
        "\n",
        "```txt\n",
        "Ingrese el mensaje a cifrar: Hola Mundo  \n",
        "Ingrese el desplazamiento: 3  \n",
        "Mensaje cifrado: Krod Pxqgr\n",
        "```\n",
        "\n",
        "**Tiempo estimado de solución:** 40 minutos\n",
        "\n",
        "**Pista:** Usa el código ASCII para desplazar las letras."
      ]
    },
    {
      "cell_type": "code",
      "execution_count": 58,
      "metadata": {
        "id": "JKPHwb0FYTm7"
      },
      "outputs": [],
      "source": [
        "def caesar_cipher(message: str, shift: int) -> str: ## Se define la función césar\n",
        "    resultado = \"\" ## Definicmos variable resultado osea como solo para que exista porque aún no lleva nada\n",
        "    for caracter in message: ## Para caracteres en mensaje, el for recorre el mensaje para cada caracter\n",
        "        if caracter.isalpha(): ## Si el caracter es letra y el if verifica si es letra\n",
        "          ascii_base = ord('A') if caracter.isupper() else ord('a') ## Definimos ascii_base como un cambio de los caracteres a ascii, el ord hace es cambiar a ascii, .isupper es una función que revisa es mayuscula o minúscula en ascii\n",
        "          nuevo_caracter = chr(ascii_base + (ord(caracter) - ascii_base + shift) % 26) ## El cracter de ascii lo resta con ascii_base y eso lo sumamos con número de posiciones, y eso se mantiene en 26 osea 26 letras del alfabeto, el chr convierte lo que dijimos en un caracter\n",
        "          resultado += nuevo_caracter ## Pone el resultado en el nuevo caracter\n",
        "        else: ## SINO\n",
        "            resultado += caracter ## Suma resultado al mismo caracter que el usuario puso\n",
        "    return resultado ## Retorna resultado final\n",
        "pass"
      ]
    },
    {
      "cell_type": "code",
      "execution_count": null,
      "metadata": {
        "colab": {
          "base_uri": "https://localhost:8080/"
        },
        "id": "UzsCNApVYTm7",
        "outputId": "c8a22b89-1d7e-4dd4-983d-eae444e80c94"
      },
      "outputs": [
        {
          "output_type": "stream",
          "name": "stdout",
          "text": [
            "Ingrese el mensaje a cifrar: Hola Mundo\n",
            "Ingrese el desplazamiento: 3\n",
            "Mensaje cifrado: Krod Pxqgr\n"
          ]
        }
      ],
      "source": [
        "message = input(\"Ingrese el mensaje a cifrar: \")\n",
        "shift = int(input(\"Ingrese el desplazamiento: \"))\n",
        "\n",
        "print(f\"Mensaje cifrado: {caesar_cipher(message, shift)}\")"
      ]
    },
    {
      "cell_type": "markdown",
      "metadata": {
        "id": "pL_bxerfYTm8"
      },
      "source": [
        "## Testing Zone - NO TOCAR"
      ]
    },
    {
      "cell_type": "markdown",
      "metadata": {
        "id": "Lma5LbghYTm8"
      },
      "source": [
        "### Util Functions"
      ]
    },
    {
      "cell_type": "markdown",
      "metadata": {
        "id": "WIGvVw1SYTm8"
      },
      "source": [
        "#### Function: Resume Test\n",
        "\n",
        "This `resume_test` function is a helper function that takes a list of test classes as input and runs all the test cases within those classes using the `unittest` module in Python."
      ]
    },
    {
      "cell_type": "code",
      "execution_count": 59,
      "metadata": {
        "id": "RQSjrZJGYTm8"
      },
      "outputs": [],
      "source": [
        "import unittest\n",
        "\n",
        "\n",
        "def resume_test(classes):\n",
        "    for test_class in classes:\n",
        "        global total_test, passed_tests, failed_test, total_errors\n",
        "\n",
        "        suite = unittest.defaultTestLoader.loadTestsFromTestCase(test_class)\n",
        "        runner = unittest.TextTestRunner(verbosity=0)\n",
        "        result = runner.run(suite)\n",
        "\n",
        "        class_total_test = result.testsRun\n",
        "        passed_tests += (class_total_test - len(result.failures) - len(result.errors))\n",
        "        total_test += class_total_test\n",
        "        failed_test += (len(result.failures) + len(result.errors))\n",
        "        total_errors += len(result.errors)"
      ]
    },
    {
      "cell_type": "markdown",
      "metadata": {
        "id": "BqxLSAl3YTm9"
      },
      "source": [
        "#### Function: Test Statistics\n",
        "\n",
        "The code defines a function named `test_statistics` that prints out various statistics related to test results. It displays the total number of tests executed, the number of passed tests, the number of failed tests, and the total number of errors encountered"
      ]
    },
    {
      "cell_type": "code",
      "execution_count": 60,
      "metadata": {
        "id": "-u0DPJa7YTm9"
      },
      "outputs": [],
      "source": [
        "def test_statistics():\n",
        "    global total_test, passed_tests, failed_test, total_errors\n",
        "\n",
        "    print(f\"\\nTotal de pruebas ejecutadas: {total_test}\")\n",
        "    print(f\"Pruebas exitosas: {passed_tests}\")\n",
        "    print(f\"Pruebas fallidas: {failed_test}\")\n",
        "    print(f\"Errores: {total_errors}\")\n",
        "\n",
        "    print(f\"\\n\\nDécimas per Test: {5 / total_test}\")\n",
        "\n",
        "    grade = round(5 / total_test * passed_tests, 2)\n",
        "    print(f\"Nota obtenida: {1.0 if grade < 1.0 else grade}\")"
      ]
    },
    {
      "cell_type": "markdown",
      "metadata": {
        "id": "z1X-SV5jYTm9"
      },
      "source": [
        "### Define Test Case"
      ]
    },
    {
      "cell_type": "markdown",
      "metadata": {
        "id": "bDkzCo7GYTm-"
      },
      "source": [
        "#### Test Calculate BMI"
      ]
    },
    {
      "cell_type": "code",
      "execution_count": 61,
      "metadata": {
        "id": "7WHTuDH2YTm-"
      },
      "outputs": [],
      "source": [
        "class TestCalculateBMI(unittest.TestCase):\n",
        "    def test_underweight(self):\n",
        "        self.assertEqual(calculate_bmi(50, 1.75), \"Su IMC es: 16.33 (Bajo peso)\")\n",
        "\n",
        "    def test_normal_weight(self):\n",
        "        self.assertEqual(calculate_bmi(70, 1.75), \"Su IMC es: 22.86 (Peso normal)\")\n",
        "\n",
        "    def test_overweight(self):\n",
        "        self.assertEqual(calculate_bmi(85, 1.75), \"Su IMC es: 27.76 (Sobrepeso)\")\n",
        "\n",
        "    def test_obesity(self):\n",
        "        self.assertEqual(calculate_bmi(100, 1.75), \"Su IMC es: 32.65 (Obesidad)\")"
      ]
    },
    {
      "cell_type": "markdown",
      "metadata": {
        "id": "OhRKA8sdYTm_"
      },
      "source": [
        "#### Test Is Prime"
      ]
    },
    {
      "cell_type": "code",
      "execution_count": 62,
      "metadata": {
        "id": "ETMmSb1cYTm_"
      },
      "outputs": [],
      "source": [
        "class TestIsPrime(unittest.TestCase):\n",
        "    def test_prime_number(self):\n",
        "        self.assertTrue(is_prime(29))\n",
        "\n",
        "    def test_non_prime_number(self):\n",
        "        self.assertFalse(is_prime(18))\n",
        "\n",
        "    def test_prime_number_small(self):\n",
        "        self.assertTrue(is_prime(2))\n",
        "\n",
        "    def test_non_prime_number_small(self):\n",
        "        self.assertFalse(is_prime(1))\n",
        "\n",
        "    def test_large_prime_number(self):\n",
        "        self.assertTrue(is_prime(97))\n",
        "\n",
        "    def test_large_non_prime_number(self):\n",
        "        self.assertFalse(is_prime(100))"
      ]
    },
    {
      "cell_type": "markdown",
      "metadata": {
        "id": "YEN0iN-oYTnA"
      },
      "source": [
        "#### Test Basic Calculator"
      ]
    },
    {
      "cell_type": "code",
      "execution_count": 63,
      "metadata": {
        "id": "Kt8EBcZJYTnB"
      },
      "outputs": [],
      "source": [
        "class TestBasicCalculator(unittest.TestCase):\n",
        "    def test_addition(self):\n",
        "        self.assertEqual(basic_calculator(8, 4, '+'), \"El resultado es: 12.0\")\n",
        "\n",
        "    def test_subtraction(self):\n",
        "        self.assertEqual(basic_calculator(8, 4, '-'), \"El resultado es: 4.0\")\n",
        "\n",
        "    def test_multiplication(self):\n",
        "        self.assertEqual(basic_calculator(8, 4, '*'), \"El resultado es: 32.0\")\n",
        "\n",
        "    def test_division(self):\n",
        "        self.assertEqual(basic_calculator(8, 4, '/'), \"El resultado es: 2.0\")\n",
        "\n",
        "    def test_division_by_zero(self):\n",
        "        self.assertEqual(basic_calculator(8, 0, '/'), \"Error: División por cero no permitida.\")\n",
        "\n",
        "    def test_invalid_operator(self):\n",
        "        self.assertEqual(basic_calculator(8, 4, '%'), \"Error: Operador no válido.\")"
      ]
    },
    {
      "cell_type": "markdown",
      "metadata": {
        "id": "ETIufwJsYTnB"
      },
      "source": [
        "#### Test Convert Temperature"
      ]
    },
    {
      "cell_type": "code",
      "execution_count": 64,
      "metadata": {
        "id": "6efsSFrOYTnC"
      },
      "outputs": [],
      "source": [
        "class TestConvertTemperature(unittest.TestCase):\n",
        "\n",
        "    def test_celsius_to_fahrenheit(self):\n",
        "        self.assertEqual(convert_temperature(100, 'C', 'F'), \"El resultado es: 212.00 °F\")\n",
        "\n",
        "    def test_celsius_to_kelvin(self):\n",
        "        self.assertEqual(convert_temperature(0, 'C', 'K'), \"El resultado es: 273.15 °K\")\n",
        "\n",
        "    def test_fahrenheit_to_celsius(self):\n",
        "        self.assertEqual(convert_temperature(32, 'F', 'C'), \"El resultado es: 0.00 °C\")\n",
        "\n",
        "    def test_fahrenheit_to_kelvin(self):\n",
        "        self.assertEqual(convert_temperature(32, 'F', 'K'), \"El resultado es: 273.15 °K\")\n",
        "\n",
        "    def test_kelvin_to_celsius(self):\n",
        "        self.assertEqual(convert_temperature(273.15, 'K', 'C'), \"El resultado es: 0.00 °C\")\n",
        "\n",
        "    def test_kelvin_to_fahrenheit(self):\n",
        "        self.assertEqual(convert_temperature(273.15, 'K', 'F'), \"El resultado es: 32.00 °F\")\n",
        "\n",
        "    def test_invalid_scale(self):\n",
        "        self.assertEqual(convert_temperature(100, 'X', 'F'), \"Error: Escala actual no válida.\")"
      ]
    },
    {
      "cell_type": "markdown",
      "metadata": {
        "id": "FDrk82eyYTnD"
      },
      "source": [
        "#### Test Sum Even Numbers"
      ]
    },
    {
      "cell_type": "code",
      "execution_count": 65,
      "metadata": {
        "id": "7NBQmPekYTnD"
      },
      "outputs": [],
      "source": [
        "class TestSumEvenNumbers(unittest.TestCase):\n",
        "    def test_sum_even_numbers(self):\n",
        "        self.assertEqual(sum_even_numbers(10), 30)\n",
        "\n",
        "    def test_sum_even_numbers_with_odd_limit(self):\n",
        "        self.assertEqual(sum_even_numbers(9), 20)\n",
        "\n",
        "    def test_sum_even_numbers_with_small_limit(self):\n",
        "        self.assertEqual(sum_even_numbers(2), 2)\n",
        "\n",
        "    def test_sum_even_numbers_with_zero(self):\n",
        "        self.assertEqual(sum_even_numbers(0), 0)"
      ]
    },
    {
      "cell_type": "markdown",
      "metadata": {
        "id": "zsXtH393YTnE"
      },
      "source": [
        "#### Test Fibonacci Series"
      ]
    },
    {
      "cell_type": "code",
      "execution_count": 66,
      "metadata": {
        "id": "jY9m2ucUYTnE"
      },
      "outputs": [],
      "source": [
        "class TestFibonacciSeries(unittest.TestCase):\n",
        "    def test_fibonacci_series_normal(self):\n",
        "        self.assertEqual(fibonacci_series(10), [0, 1, 1, 2, 3, 5, 8])\n",
        "\n",
        "    def test_fibonacci_series_small(self):\n",
        "        self.assertEqual(fibonacci_series(1), [0, 1, 1])\n",
        "\n",
        "    def test_fibonacci_series_zero(self):\n",
        "        self.assertEqual(fibonacci_series(0), [0, 1])\n",
        "\n",
        "    def test_fibonacci_series_large(self):\n",
        "        self.assertEqual(fibonacci_series(50), [0, 1, 1, 2, 3, 5, 8, 13, 21, 34])"
      ]
    },
    {
      "cell_type": "markdown",
      "metadata": {
        "id": "53Dvbh2GYTnE"
      },
      "source": [
        "#### Test Is Palindrome"
      ]
    },
    {
      "cell_type": "code",
      "execution_count": 67,
      "metadata": {
        "id": "eimTXFQCYTnF"
      },
      "outputs": [],
      "source": [
        "class TestIsPalindrome(unittest.TestCase):\n",
        "    def test_simple_palindrome(self):\n",
        "        self.assertTrue(is_palindrome(\"Anita lava la tina\"))\n",
        "\n",
        "    def test_non_palindrome(self):\n",
        "        self.assertFalse(is_palindrome(\"Hola mundo\"))\n",
        "\n",
        "    def test_palindrome_with_accents(self):\n",
        "        self.assertTrue(is_palindrome(\"Dábale arroz a la zorra el abad\"))\n",
        "\n",
        "    def test_palindrome_single_word(self):\n",
        "        self.assertTrue(is_palindrome(\"reconocer\"))\n",
        "\n",
        "    def test_empty_string(self):\n",
        "        self.assertTrue(is_palindrome(\"\"))"
      ]
    },
    {
      "cell_type": "markdown",
      "metadata": {
        "id": "elceO4aKYTnF"
      },
      "source": [
        "#### Test Guest Number"
      ]
    },
    {
      "cell_type": "code",
      "execution_count": 68,
      "metadata": {
        "id": "s-L0KgmqYTnG"
      },
      "outputs": [],
      "source": [
        "from unittest.mock import patch\n",
        "import io\n",
        "\n",
        "class TestGuessNumber(unittest.TestCase):\n",
        "    @patch('random.randint', return_value=42)\n",
        "    @patch('builtins.input', side_effect=['30', '50', '42'])\n",
        "    @patch('sys.stdout', new_callable=io.StringIO)\n",
        "    def test_guess_number_1(self, mock_stdout, mock_input, mock_randint):\n",
        "        guess_number()\n",
        "        output = mock_stdout.getvalue()\n",
        "        self.assertIn(\"Muy bajo. Intenta nuevamente.\", output)\n",
        "        self.assertIn(\"Muy alto. Intenta nuevamente.\", output)\n",
        "        self.assertIn(\"¡Correcto! Adivinaste el número en 3 intentos.\", output)\n",
        "\n",
        "    @patch('random.randint', return_value=100)\n",
        "    @patch('builtins.input', side_effect=['30', '40', '50', '60', '70', '80', '90', '100'])\n",
        "    @patch('sys.stdout', new_callable=io.StringIO)\n",
        "    def test_guess_number_2(self, mock_stdout, mock_input, mock_randint):\n",
        "        guess_number()\n",
        "        output = mock_stdout.getvalue()\n",
        "        self.assertIn(\"Muy bajo. Intenta nuevamente.\", output)\n",
        "        self.assertIn(\"Muy bajo. Intenta nuevamente.\", output)\n",
        "        self.assertIn(\"Muy bajo. Intenta nuevamente.\", output)\n",
        "        self.assertIn(\"Muy bajo. Intenta nuevamente.\", output)\n",
        "        self.assertIn(\"Muy bajo. Intenta nuevamente.\", output)\n",
        "        self.assertIn(\"Muy bajo. Intenta nuevamente.\", output)\n",
        "        self.assertIn(\"Muy bajo. Intenta nuevamente.\", output)\n",
        "        self.assertIn(\"¡Correcto! Adivinaste el número en 8 intentos.\", output)\n",
        "\n",
        "    @patch('random.randint', return_value=1)\n",
        "    @patch('builtins.input', side_effect=['25', '12', '6', '3', '2', '1'])\n",
        "    @patch('sys.stdout', new_callable=io.StringIO)\n",
        "    def test_guess_number_3(self, mock_stdout, mock_input, mock_randint):\n",
        "        guess_number()\n",
        "        output = mock_stdout.getvalue()\n",
        "        self.assertIn(\"Muy alto. Intenta nuevamente.\", output)\n",
        "        self.assertIn(\"Muy alto. Intenta nuevamente.\", output)\n",
        "        self.assertIn(\"Muy alto. Intenta nuevamente.\", output)\n",
        "        self.assertIn(\"Muy alto. Intenta nuevamente.\", output)\n",
        "        self.assertIn(\"Muy alto. Intenta nuevamente.\", output)\n",
        "        self.assertIn(\"¡Correcto! Adivinaste el número en 6 intentos.\", output)"
      ]
    },
    {
      "cell_type": "markdown",
      "metadata": {
        "id": "fuA2fdOXYTnG"
      },
      "source": [
        "#### Test Sort Numbers"
      ]
    },
    {
      "cell_type": "code",
      "execution_count": 69,
      "metadata": {
        "id": "feKzHOVdYTnG"
      },
      "outputs": [],
      "source": [
        "class TestSortNumbers(unittest.TestCase):\n",
        "    def test_sort_numbers_valid_input(self):\n",
        "        self.assertEqual(sort_numbers(\"8, 3, 5, 1, 9, 2\"), \"1, 2, 3, 5, 8, 9\")\n",
        "\n",
        "    def test_sort_numbers_with_spaces(self):\n",
        "        self.assertEqual(sort_numbers(\" 10 , 4 , 2 , 8 \"), \"2, 4, 8, 10\")\n",
        "\n",
        "    def test_sort_numbers_with_single_number(self):\n",
        "        self.assertEqual(sort_numbers(\"5\"), \"5\")\n",
        "\n",
        "    def test_sort_numbers_invalid_input(self):\n",
        "        self.assertEqual(sort_numbers(\"5, a, 3\"), \"Error: Asegúrate de ingresar solo números separados por comas.\")"
      ]
    },
    {
      "cell_type": "markdown",
      "metadata": {
        "id": "oAx-1V6SYTnH"
      },
      "source": [
        "#### Test Factorial"
      ]
    },
    {
      "cell_type": "code",
      "execution_count": 70,
      "metadata": {
        "id": "5Y8ijk3CYTnH"
      },
      "outputs": [],
      "source": [
        "class TestFactorial(unittest.TestCase):\n",
        "    def test_factorial_positive(self):\n",
        "        self.assertEqual(factorial(5), 120)\n",
        "\n",
        "    def test_factorial_zero(self):\n",
        "        self.assertEqual(factorial(0), 1)\n",
        "\n",
        "    def test_factorial_one(self):\n",
        "        self.assertEqual(factorial(1), 1)\n",
        "\n",
        "    def test_factorial_negative(self):\n",
        "        with self.assertRaises(ValueError):\n",
        "            factorial(-5)"
      ]
    },
    {
      "cell_type": "markdown",
      "metadata": {
        "id": "-JsXbqzXYTnH"
      },
      "source": [
        "#### Test Count Vowels and Consonants"
      ]
    },
    {
      "cell_type": "code",
      "execution_count": 71,
      "metadata": {
        "id": "Plo8MwEMYTnI"
      },
      "outputs": [],
      "source": [
        "class TestCountVowelsAndConsonants(unittest.TestCase):\n",
        "    def test_normal_text(self):\n",
        "        self.assertEqual(count_vowels_and_consonants(\"Hola Mundo\"), (4, 5))\n",
        "\n",
        "    def test_only_vowels(self):\n",
        "        self.assertEqual(count_vowels_and_consonants(\"aeiou\"), (5, 0))\n",
        "\n",
        "    def test_only_consonants(self):\n",
        "        self.assertEqual(count_vowels_and_consonants(\"bcdfgh\"), (0, 6))\n",
        "\n",
        "    def test_empty_string(self):\n",
        "        self.assertEqual(count_vowels_and_consonants(\"\"), (0, 0))"
      ]
    },
    {
      "cell_type": "markdown",
      "metadata": {
        "id": "H03PFLl6YTnI"
      },
      "source": [
        "#### Test Caesar Cipher"
      ]
    },
    {
      "cell_type": "code",
      "execution_count": 72,
      "metadata": {
        "id": "e9wGQpytYTnJ"
      },
      "outputs": [],
      "source": [
        "class TestCaesarCipher(unittest.TestCase):\n",
        "    def test_encryption(self):\n",
        "        self.assertEqual(caesar_cipher(\"Hola Mundo\", 3), \"Krod Pxqgr\")\n",
        "\n",
        "    def test_encryption_with_zero_shift(self):\n",
        "        self.assertEqual(caesar_cipher(\"Python\", 0), \"Python\")\n",
        "\n",
        "    def test_encryption_with_full_alphabet_shift(self):\n",
        "        self.assertEqual(caesar_cipher(\"ABCD\", 26), \"ABCD\")\n",
        "\n",
        "    def test_encryption_with_negative_shift(self):\n",
        "        self.assertEqual(caesar_cipher(\"Krod Pxqgr\", -3), \"Hola Mundo\")"
      ]
    },
    {
      "cell_type": "markdown",
      "metadata": {
        "id": "ojo5E3vWYTnJ"
      },
      "source": [
        "## Nota Final"
      ]
    },
    {
      "cell_type": "markdown",
      "metadata": {
        "id": "1eAOvZaOYTnJ"
      },
      "source": [
        "### Ejecución de pruebas y visualización de errores"
      ]
    },
    {
      "cell_type": "code",
      "execution_count": 73,
      "metadata": {
        "colab": {
          "base_uri": "https://localhost:8080/"
        },
        "id": "47WDIWxYYTnK",
        "outputId": "43063a32-4a3f-4c09-bc24-67ed331e5ebf"
      },
      "outputs": [
        {
          "output_type": "stream",
          "name": "stderr",
          "text": [
            ".................................EEE...................\n",
            "======================================================================\n",
            "ERROR: test_guess_number_1 (__main__.TestGuessNumber.test_guess_number_1)\n",
            "----------------------------------------------------------------------\n",
            "Traceback (most recent call last):\n",
            "  File \"/usr/lib/python3.11/unittest/mock.py\", line 1378, in patched\n",
            "    return func(*newargs, **newkeywargs)\n",
            "           ^^^^^^^^^^^^^^^^^^^^^^^^^^^^^\n",
            "  File \"<ipython-input-68-54a0f194b5ab>\", line 9, in test_guess_number_1\n",
            "    guess_number()\n",
            "  File \"<ipython-input-54-454c1bfb3250>\", line 15, in guess_number\n",
            "    number = int(input('Adivina el número (entre 1 y 100): ')) ## Vuelve a preguntar otro número\n",
            "                 ^^^^^^^^^^^^^^^^^^^^^^^^^^^^^^^^^^^^^^^^^^^^\n",
            "  File \"/usr/lib/python3.11/unittest/mock.py\", line 1124, in __call__\n",
            "    return self._mock_call(*args, **kwargs)\n",
            "           ^^^^^^^^^^^^^^^^^^^^^^^^^^^^^^^^\n",
            "  File \"/usr/lib/python3.11/unittest/mock.py\", line 1128, in _mock_call\n",
            "    return self._execute_mock_call(*args, **kwargs)\n",
            "           ^^^^^^^^^^^^^^^^^^^^^^^^^^^^^^^^^^^^^^^^\n",
            "  File \"/usr/lib/python3.11/unittest/mock.py\", line 1185, in _execute_mock_call\n",
            "    result = next(effect)\n",
            "             ^^^^^^^^^^^^\n",
            "StopIteration\n",
            "\n",
            "======================================================================\n",
            "ERROR: test_guess_number_2 (__main__.TestGuessNumber.test_guess_number_2)\n",
            "----------------------------------------------------------------------\n",
            "Traceback (most recent call last):\n",
            "  File \"/usr/lib/python3.11/unittest/mock.py\", line 1378, in patched\n",
            "    return func(*newargs, **newkeywargs)\n",
            "           ^^^^^^^^^^^^^^^^^^^^^^^^^^^^^\n",
            "  File \"<ipython-input-68-54a0f194b5ab>\", line 19, in test_guess_number_2\n",
            "    guess_number()\n",
            "  File \"<ipython-input-54-454c1bfb3250>\", line 11, in guess_number\n",
            "    number = int(input('Adivina el número (entre 1 y 100): ')) ## Vuele a preguntar otro numero hasta adivinarlo\n",
            "                 ^^^^^^^^^^^^^^^^^^^^^^^^^^^^^^^^^^^^^^^^^^^^\n",
            "  File \"/usr/lib/python3.11/unittest/mock.py\", line 1124, in __call__\n",
            "    return self._mock_call(*args, **kwargs)\n",
            "           ^^^^^^^^^^^^^^^^^^^^^^^^^^^^^^^^\n",
            "  File \"/usr/lib/python3.11/unittest/mock.py\", line 1128, in _mock_call\n",
            "    return self._execute_mock_call(*args, **kwargs)\n",
            "           ^^^^^^^^^^^^^^^^^^^^^^^^^^^^^^^^^^^^^^^^\n",
            "  File \"/usr/lib/python3.11/unittest/mock.py\", line 1185, in _execute_mock_call\n",
            "    result = next(effect)\n",
            "             ^^^^^^^^^^^^\n",
            "StopIteration\n",
            "\n",
            "======================================================================\n",
            "ERROR: test_guess_number_3 (__main__.TestGuessNumber.test_guess_number_3)\n",
            "----------------------------------------------------------------------\n",
            "Traceback (most recent call last):\n",
            "  File \"/usr/lib/python3.11/unittest/mock.py\", line 1378, in patched\n",
            "    return func(*newargs, **newkeywargs)\n",
            "           ^^^^^^^^^^^^^^^^^^^^^^^^^^^^^\n",
            "  File \"<ipython-input-68-54a0f194b5ab>\", line 34, in test_guess_number_3\n",
            "    guess_number()\n",
            "  File \"<ipython-input-54-454c1bfb3250>\", line 15, in guess_number\n",
            "    number = int(input('Adivina el número (entre 1 y 100): ')) ## Vuelve a preguntar otro número\n",
            "                 ^^^^^^^^^^^^^^^^^^^^^^^^^^^^^^^^^^^^^^^^^^^^\n",
            "  File \"/usr/lib/python3.11/unittest/mock.py\", line 1124, in __call__\n",
            "    return self._mock_call(*args, **kwargs)\n",
            "           ^^^^^^^^^^^^^^^^^^^^^^^^^^^^^^^^\n",
            "  File \"/usr/lib/python3.11/unittest/mock.py\", line 1128, in _mock_call\n",
            "    return self._execute_mock_call(*args, **kwargs)\n",
            "           ^^^^^^^^^^^^^^^^^^^^^^^^^^^^^^^^^^^^^^^^\n",
            "  File \"/usr/lib/python3.11/unittest/mock.py\", line 1185, in _execute_mock_call\n",
            "    result = next(effect)\n",
            "             ^^^^^^^^^^^^\n",
            "StopIteration\n",
            "\n",
            "----------------------------------------------------------------------\n",
            "Ran 55 tests in 0.062s\n",
            "\n",
            "FAILED (errors=3)\n",
            "----------------------------------------------------------------------\n",
            "Ran 4 tests in 0.000s\n",
            "\n",
            "OK\n",
            "----------------------------------------------------------------------\n",
            "Ran 6 tests in 0.001s\n",
            "\n",
            "OK\n",
            "----------------------------------------------------------------------\n",
            "Ran 6 tests in 0.000s\n",
            "\n",
            "OK\n",
            "----------------------------------------------------------------------\n",
            "Ran 7 tests in 0.000s\n",
            "\n",
            "OK\n",
            "----------------------------------------------------------------------\n",
            "Ran 4 tests in 0.000s\n",
            "\n",
            "OK\n",
            "----------------------------------------------------------------------\n",
            "Ran 4 tests in 0.000s\n",
            "\n",
            "OK\n",
            "----------------------------------------------------------------------\n",
            "Ran 5 tests in 0.000s\n",
            "\n",
            "OK\n",
            "======================================================================\n",
            "ERROR: test_guess_number_1 (__main__.TestGuessNumber.test_guess_number_1)\n",
            "----------------------------------------------------------------------\n",
            "Traceback (most recent call last):\n",
            "  File \"/usr/lib/python3.11/unittest/mock.py\", line 1378, in patched\n",
            "    return func(*newargs, **newkeywargs)\n",
            "           ^^^^^^^^^^^^^^^^^^^^^^^^^^^^^\n",
            "  File \"<ipython-input-68-54a0f194b5ab>\", line 9, in test_guess_number_1\n",
            "    guess_number()\n",
            "  File \"<ipython-input-54-454c1bfb3250>\", line 11, in guess_number\n",
            "    number = int(input('Adivina el número (entre 1 y 100): ')) ## Vuele a preguntar otro numero hasta adivinarlo\n",
            "                 ^^^^^^^^^^^^^^^^^^^^^^^^^^^^^^^^^^^^^^^^^^^^\n",
            "  File \"/usr/lib/python3.11/unittest/mock.py\", line 1124, in __call__\n",
            "    return self._mock_call(*args, **kwargs)\n",
            "           ^^^^^^^^^^^^^^^^^^^^^^^^^^^^^^^^\n",
            "  File \"/usr/lib/python3.11/unittest/mock.py\", line 1128, in _mock_call\n",
            "    return self._execute_mock_call(*args, **kwargs)\n",
            "           ^^^^^^^^^^^^^^^^^^^^^^^^^^^^^^^^^^^^^^^^\n",
            "  File \"/usr/lib/python3.11/unittest/mock.py\", line 1185, in _execute_mock_call\n",
            "    result = next(effect)\n",
            "             ^^^^^^^^^^^^\n",
            "StopIteration\n",
            "\n",
            "======================================================================\n",
            "ERROR: test_guess_number_2 (__main__.TestGuessNumber.test_guess_number_2)\n",
            "----------------------------------------------------------------------\n",
            "Traceback (most recent call last):\n",
            "  File \"/usr/lib/python3.11/unittest/mock.py\", line 1378, in patched\n",
            "    return func(*newargs, **newkeywargs)\n",
            "           ^^^^^^^^^^^^^^^^^^^^^^^^^^^^^\n",
            "  File \"<ipython-input-68-54a0f194b5ab>\", line 19, in test_guess_number_2\n",
            "    guess_number()\n",
            "  File \"<ipython-input-54-454c1bfb3250>\", line 11, in guess_number\n",
            "    number = int(input('Adivina el número (entre 1 y 100): ')) ## Vuele a preguntar otro numero hasta adivinarlo\n",
            "                 ^^^^^^^^^^^^^^^^^^^^^^^^^^^^^^^^^^^^^^^^^^^^\n",
            "  File \"/usr/lib/python3.11/unittest/mock.py\", line 1124, in __call__\n",
            "    return self._mock_call(*args, **kwargs)\n",
            "           ^^^^^^^^^^^^^^^^^^^^^^^^^^^^^^^^\n",
            "  File \"/usr/lib/python3.11/unittest/mock.py\", line 1128, in _mock_call\n",
            "    return self._execute_mock_call(*args, **kwargs)\n",
            "           ^^^^^^^^^^^^^^^^^^^^^^^^^^^^^^^^^^^^^^^^\n",
            "  File \"/usr/lib/python3.11/unittest/mock.py\", line 1185, in _execute_mock_call\n",
            "    result = next(effect)\n",
            "             ^^^^^^^^^^^^\n",
            "StopIteration\n",
            "\n",
            "======================================================================\n",
            "ERROR: test_guess_number_3 (__main__.TestGuessNumber.test_guess_number_3)\n",
            "----------------------------------------------------------------------\n",
            "Traceback (most recent call last):\n",
            "  File \"/usr/lib/python3.11/unittest/mock.py\", line 1378, in patched\n",
            "    return func(*newargs, **newkeywargs)\n",
            "           ^^^^^^^^^^^^^^^^^^^^^^^^^^^^^\n",
            "  File \"<ipython-input-68-54a0f194b5ab>\", line 34, in test_guess_number_3\n",
            "    guess_number()\n",
            "  File \"<ipython-input-54-454c1bfb3250>\", line 15, in guess_number\n",
            "    number = int(input('Adivina el número (entre 1 y 100): ')) ## Vuelve a preguntar otro número\n",
            "                 ^^^^^^^^^^^^^^^^^^^^^^^^^^^^^^^^^^^^^^^^^^^^\n",
            "  File \"/usr/lib/python3.11/unittest/mock.py\", line 1124, in __call__\n",
            "    return self._mock_call(*args, **kwargs)\n",
            "           ^^^^^^^^^^^^^^^^^^^^^^^^^^^^^^^^\n",
            "  File \"/usr/lib/python3.11/unittest/mock.py\", line 1128, in _mock_call\n",
            "    return self._execute_mock_call(*args, **kwargs)\n",
            "           ^^^^^^^^^^^^^^^^^^^^^^^^^^^^^^^^^^^^^^^^\n",
            "  File \"/usr/lib/python3.11/unittest/mock.py\", line 1185, in _execute_mock_call\n",
            "    result = next(effect)\n",
            "             ^^^^^^^^^^^^\n",
            "StopIteration\n",
            "\n",
            "----------------------------------------------------------------------\n",
            "Ran 3 tests in 0.008s\n",
            "\n",
            "FAILED (errors=3)\n",
            "----------------------------------------------------------------------\n",
            "Ran 4 tests in 0.000s\n",
            "\n",
            "OK\n",
            "----------------------------------------------------------------------\n",
            "Ran 4 tests in 0.000s\n",
            "\n",
            "OK\n",
            "----------------------------------------------------------------------\n",
            "Ran 4 tests in 0.000s\n",
            "\n",
            "OK\n",
            "----------------------------------------------------------------------\n",
            "Ran 4 tests in 0.000s\n",
            "\n",
            "OK\n"
          ]
        }
      ],
      "source": [
        "total_test = 0\n",
        "passed_tests = 0\n",
        "failed_test = 0\n",
        "total_errors = 0\n",
        "\n",
        "unittest.main(argv=['first-arg-is-ignored'], exit=False)\n",
        "\n",
        "tests = [\n",
        "    TestCalculateBMI,\n",
        "    TestIsPrime,\n",
        "    TestBasicCalculator,\n",
        "    TestConvertTemperature,\n",
        "    TestSumEvenNumbers,\n",
        "    TestFibonacciSeries,\n",
        "    TestIsPalindrome,\n",
        "    TestGuessNumber,\n",
        "    TestSortNumbers,\n",
        "    TestFactorial,\n",
        "    TestCountVowelsAndConsonants,\n",
        "    TestCaesarCipher\n",
        "]\n",
        "\n",
        "resume_test(tests)"
      ]
    },
    {
      "cell_type": "code",
      "execution_count": 74,
      "metadata": {
        "colab": {
          "base_uri": "https://localhost:8080/"
        },
        "id": "vIoAw28RYTnK",
        "outputId": "2b82c97b-8a61-4db4-a050-39ba84911b81"
      },
      "outputs": [
        {
          "output_type": "stream",
          "name": "stdout",
          "text": [
            "\n",
            "Total de pruebas ejecutadas: 55\n",
            "Pruebas exitosas: 52\n",
            "Pruebas fallidas: 3\n",
            "Errores: 3\n",
            "\n",
            "\n",
            "Décimas per Test: 0.09090909090909091\n",
            "Nota obtenida: 4.73\n"
          ]
        }
      ],
      "source": [
        "test_statistics()"
      ]
    }
  ],
  "metadata": {
    "kernelspec": {
      "display_name": "Python 3",
      "language": "python",
      "name": "python3"
    },
    "language_info": {
      "codemirror_mode": {
        "name": "ipython",
        "version": 3
      },
      "file_extension": ".py",
      "mimetype": "text/x-python",
      "name": "python",
      "nbconvert_exporter": "python",
      "pygments_lexer": "ipython3",
      "version": "3.13.2"
    },
    "colab": {
      "provenance": [],
      "toc_visible": true,
      "include_colab_link": true
    }
  },
  "nbformat": 4,
  "nbformat_minor": 0
}