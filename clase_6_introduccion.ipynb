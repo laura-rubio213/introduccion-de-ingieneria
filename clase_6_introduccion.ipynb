{
  "cells": [
    {
      "cell_type": "markdown",
      "metadata": {
        "id": "view-in-github",
        "colab_type": "text"
      },
      "source": [
        "<a href=\"https://colab.research.google.com/github/laura-rubio213/introduccion-de-ingieneria/blob/main/clase_6_introduccion.ipynb\" target=\"_parent\"><img src=\"https://colab.research.google.com/assets/colab-badge.svg\" alt=\"Open In Colab\"/></a>"
      ]
    },
    {
      "cell_type": "code",
      "source": [
        "  x = True\n",
        "  y = False\n",
        "  print(x and y)\n",
        "  print(x or y)\n",
        "  print(not x )\n",
        "  print(not y)\n"
      ],
      "metadata": {
        "id": "bdqVUg2NXz1X",
        "outputId": "ec93bca5-ebae-4813-f1c7-dd65a8b83994",
        "colab": {
          "base_uri": "https://localhost:8080/"
        }
      },
      "execution_count": null,
      "outputs": [
        {
          "output_type": "stream",
          "name": "stdout",
          "text": [
            "False\n",
            "True\n",
            "False\n",
            "True\n"
          ]
        }
      ]
    },
    {
      "cell_type": "code",
      "source": [
        "num = int(input(\"ingrese um numero: \"))\n",
        "result = (num >= 0 and num <= 100 and num % 2 == 0)\n",
        "print(\"¿el numero ingresado cumple con ser par y estar entre 0 y 100?: \", result)\n"
      ],
      "metadata": {
        "id": "eebD23HaX86p"
      },
      "execution_count": null,
      "outputs": []
    },
    {
      "cell_type": "markdown",
      "source": [
        "Tabla de verdad para operador lógico and\n",
        "\n",
        "|a|b|c|d|e|salida|\n",
        "|-|-|-|-|-|------|\n",
        "|0|0|0|0|0|0|\n",
        "|0|0|0|0|1|0|\n",
        "|0|0|0|1|1|0|\n",
        "|0|0|1|1|1|0|\n",
        "|0|1|1|1|1|0|\n",
        "|1|1|1|1|1|1|\n",
        "\n",
        "Hint: 0 es False, 1 es True\n",
        "Tabla de verdad para operador lógico or\n",
        "\n",
        "|a|b|c|d|e|salida|\n",
        "|-|-|-|-|-|------|\n",
        "|0|0|0|0|0|0|\n",
        "|0|0|0|0|1|1|\n",
        "|0|0|0|1|1|1|\n",
        "|0|0|1|1|1|1|\n",
        "|0|1|1|1|1|1|\n",
        "|1|1|1|1|1|1|\n",
        "\n",
        "Hint: 0 es False, 1 es True\n",
        "Tabla de verdad para operador lógico not\n",
        "\n",
        "|a|not a|\n",
        "|-|-|\n",
        "|0|1|\n",
        "|1|0|\n",
        "\n",
        "|a|b|not(a and b)|\n",
        "|-|-|-|\n",
        "|0|0|1|\n",
        "|1|1|0|\n",
        "\n",
        "|a|b|not (a or b)|\n",
        "|-|-|-|\n",
        "|0|1|0|\n",
        "|1|0|0|\n",
        "\n",
        "Hint: 0 es False, 1 es True"
      ],
      "metadata": {
        "id": "sxFdBcZ9deh2"
      }
    },
    {
      "cell_type": "code",
      "source": [
        "a = int(input('Ingrese un numero: '));\n",
        "b = int(input('Ingrese otro numero: '));\n",
        "c = int(input('Ingrese otro numero: '));\n",
        "loteria = [4,1,6];\n",
        "\n",
        "if a == loteria[0] and b == loteria[1] and c == loteria[2]:\n",
        "  print(\"La loteria es 416, Gana premio mayor\");\n",
        "elif (a and b and c == loteria[0] and loteria[1] and loteria[2]) and (a != b and a != c and c != b):\n",
        "  print('Gana segundo premio')\n",
        "elif (a and b in loteria) or (a and c in loteria) or ( c and b in loteria):\n",
        "  print('Gana tercer premio')\n",
        "elif ((a and b and c not in loteria)):\n",
        "  print(\"perdiste\");\n",
        "else:\n",
        "  print(\"Ganaste premio consolacion\");"
      ],
      "metadata": {
        "colab": {
          "base_uri": "https://localhost:8080/"
        },
        "id": "oMxE8qcgZexi",
        "outputId": "4685dcea-aadc-4d60-f5c3-e732669e4639"
      },
      "execution_count": 3,
      "outputs": [
        {
          "output_type": "stream",
          "name": "stdout",
          "text": [
            "Ingrese un numero: 4\n",
            "Ingrese otro numero: 3\n",
            "Ingrese otro numero: 2\n",
            "perdiste\n"
          ]
        }
      ]
    },
    {
      "cell_type": "code",
      "source": [
        "numero_ganador = 123\n",
        "numero_usuario = int(input('Ingresa un número de tres digitos'))\n",
        "\n",
        "ganador = str(numero_ganador)\n",
        "usuario = str(numero_usuario)\n",
        "\n",
        "g1, g2, g3 = ganador[0], ganador[1], ganador[2]\n",
        "u1, u2, u3 = usuario[0], usuario[1], usuario[2]\n",
        "\n",
        "if usuario == ganador:\n",
        "  print('Ganador')\n",
        "else:\n",
        "  if(\n",
        "      (u1  in ganador and u2 in ganador and u3 in ganador) and not(u1 == g1\n",
        "      and u2 == g2 and u3 == g3) and (u1 != u2 and u1 != u3 and u2 != u3)\n",
        "    ):\n",
        "      print('Ganaste el segundo premio')\n",
        "  else:\n",
        "    aciertos = 0\n",
        "\n",
        "    if u1 == g1 or u2 == g2 or u3 == g3:\n",
        "      aciertos += 1\n",
        "\n",
        "    if ((u2 == g1 or u2 == g2 or u2 == g3) and (u2 != u1 or ganador.count(u2))):\n",
        "      aciertos += 1\n",
        "    if ((u3 == g1 or u3 == g2 or u3 == g3) and (u3 != u1 and\n",
        "       u3 != u2 or (ganador.count(u3) > usuario.count(u3)))):\n",
        "      aciertos += 1\n",
        "    if aciertos == 2:\n",
        "      print('Ganaste el tercer premio')\n",
        "    elif aciertos == 1:\n",
        "      print('Ganaste el premio de consolación')\n",
        "    else:\n",
        "      print('Perdio la plata')"
      ],
      "metadata": {
        "id": "tl-ZIVe9rYTE"
      },
      "execution_count": null,
      "outputs": []
    },
    {
      "cell_type": "markdown",
      "source": [
        "## ejercico\n",
        "escriba un programa que reciba cualquier numero ENTERO `X` entre -100 y 100:\n",
        "\n",
        "1. Imprima x en la pantalla\n",
        "2. Imprima `.... es un numero natural `si x es un numero entero mayor que cero.De lo contrario, simplemente imprima x como en x = -10:\n",
        "\n",
        "\n",
        "ejempplo de salida:\n",
        "\n",
        "```txt\n",
        "enter integer:\n",
        "x = 50\n",
        "50 is a natural number\n",
        "```\n",
        "or\n",
        "\n",
        "enter integer:\n",
        "x = -10"
      ],
      "metadata": {
        "id": "MzypciNxtJ4l"
      }
    },
    {
      "cell_type": "code",
      "source": [
        "\n",
        "X = 50\n",
        "\n",
        "if -100 <= X <= 100:\n",
        "\n",
        "    if X > 0:\n",
        "        print(f\"x = {X}\")\n",
        "        print(f\"{X} is a natural number\")\n",
        "    else:\n",
        "\n",
        "        print(f\"x = {X}\")\n",
        "else:\n",
        "\n",
        "    print(\"The number is out of range. Please enter a number between -100 and 100.\")\n"
      ],
      "metadata": {
        "colab": {
          "base_uri": "https://localhost:8080/"
        },
        "id": "cr4Wh6TDwPHl",
        "outputId": "bf6cd825-25e7-4a1a-891a-1e0bb6ab4307"
      },
      "execution_count": 5,
      "outputs": [
        {
          "output_type": "stream",
          "name": "stdout",
          "text": [
            "x = 50\n",
            "50 is a natural number\n"
          ]
        }
      ]
    },
    {
      "cell_type": "code",
      "source": [
        "X = -10\n",
        "\n",
        "\n",
        "if -100 <= X <= 100:\n",
        "\n",
        "    if X > 0:\n",
        "        print(f\"x = {X}\")\n",
        "        print(f\"{X} is a natural number\")\n",
        "    else:\n",
        "\n",
        "        print(f\"x = {X}\")\n",
        "else:\n",
        "\n",
        "    print(\"The number is out of range. Please enter a number between -100 and 100.\")"
      ],
      "metadata": {
        "colab": {
          "base_uri": "https://localhost:8080/"
        },
        "id": "Ra-h621DwXm_",
        "outputId": "89f2e48f-9672-4361-ebed-1dcf249d5e9e"
      },
      "execution_count": 6,
      "outputs": [
        {
          "output_type": "stream",
          "name": "stdout",
          "text": [
            "x = -10\n"
          ]
        }
      ]
    },
    {
      "cell_type": "code",
      "source": [],
      "metadata": {
        "id": "QxhHZBG8xxMT"
      },
      "execution_count": null,
      "outputs": []
    }
  ],
  "metadata": {
    "colab": {
      "provenance": [],
      "include_colab_link": true
    },
    "kernelspec": {
      "display_name": "Python 3",
      "name": "python3"
    }
  },
  "nbformat": 4,
  "nbformat_minor": 0
}