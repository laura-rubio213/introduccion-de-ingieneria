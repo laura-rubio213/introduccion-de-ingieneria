{
  "cells": [
    {
      "cell_type": "markdown",
      "metadata": {
        "id": "view-in-github",
        "colab_type": "text"
      },
      "source": [
        "<a href=\"https://colab.research.google.com/github/laura-rubio213/introduccion-de-ingieneria/blob/main/clase_logica_computacional.ipynb\" target=\"_parent\"><img src=\"https://colab.research.google.com/assets/colab-badge.svg\" alt=\"Open In Colab\"/></a>"
      ]
    },
    {
      "cell_type": "markdown",
      "source": [
        "## TUPLAS\n",
        "La diferencia entre listas y tuplas es que las listas son editables, mientras que una tupla es una colección, la cual es ordenada e inmutable"
      ],
      "metadata": {
        "id": "KHAMPJ7GKdi5"
      }
    },
    {
      "cell_type": "code",
      "source": [
        "tupla1 = (1, 2, 3, 4, 5)\n",
        "print(tupla1)\n",
        "\n",
        "lista = []\n",
        "tupla2 = (1,)\n",
        "tupla3 = (\"sas\")\n",
        "print(tupla1)"
      ],
      "metadata": {
        "colab": {
          "base_uri": "https://localhost:8080/"
        },
        "id": "psqGOV02K36Y",
        "outputId": "13ebf107-69e6-4a77-de75-de8113282a78"
      },
      "execution_count": 2,
      "outputs": [
        {
          "output_type": "stream",
          "name": "stdout",
          "text": [
            "(1, 2, 3, 4, 5)\n",
            "(1, 2, 3, 4, 5)\n"
          ]
        }
      ]
    },
    {
      "cell_type": "code",
      "source": [
        "tupla1 = (1, 2, 3, 4, 5)\n",
        "print(tupla1.count(2))\n",
        "print(tupla1.index(2))"
      ],
      "metadata": {
        "colab": {
          "base_uri": "https://localhost:8080/"
        },
        "id": "fFipkiz1La8V",
        "outputId": "67423620-5261-42d6-c0de-a66e83dd8270"
      },
      "execution_count": 6,
      "outputs": [
        {
          "output_type": "stream",
          "name": "stdout",
          "text": [
            "1\n",
            "1\n"
          ]
        }
      ]
    },
    {
      "cell_type": "code",
      "source": [
        "tupla1 = ([1, 2, 3, 4 ], [True, False, True], [\"sdasd\"], \"asdasd\")\n",
        "print(tupla1)\n",
        "\n",
        "\n",
        "#unpack tuples - desempaquetamiento de tuplas\n",
        "\n",
        "arrInt, arrBol, arrStr, str1 = tupla1\n",
        "\n",
        "print(arrInt)\n",
        "print(arrBol)\n",
        "print(arrStr)\n",
        "print(str1)"
      ],
      "metadata": {
        "colab": {
          "base_uri": "https://localhost:8080/"
        },
        "id": "V9oLkFfBL3qT",
        "outputId": "333d7178-a44c-4b94-b05a-f4d785fe4eb6"
      },
      "execution_count": 9,
      "outputs": [
        {
          "output_type": "stream",
          "name": "stdout",
          "text": [
            "([1, 2, 3, 4], [True, False, True], ['sdasd'], 'asdasd')\n",
            "[1, 2, 3, 4]\n",
            "[True, False, True]\n",
            "['sdasd']\n",
            "asdasd\n"
          ]
        }
      ]
    },
    {
      "cell_type": "code",
      "source": [
        "tupla1 = (1, 2, 3, [True, False, True ], [\"sdasd\"], \"asdasd\")\n",
        "\n",
        "(item1, *item_varios, item_ultimo) = tupla1\n",
        "\n",
        "print(item1)\n",
        "print(item_varios)\n",
        "print(item_ultimo)\n",
        "\n",
        "## si rl asterisco es añadido en otra declaración de variable, python\n",
        "## Asignará valores a la variable hasta que el número de items coincida\n",
        "## Con el número de variables declaradas"
      ],
      "metadata": {
        "colab": {
          "base_uri": "https://localhost:8080/"
        },
        "id": "gaMNVVM8NWXq",
        "outputId": "e773f2ac-150e-4ff1-c8e8-f0bf0860384f"
      },
      "execution_count": 10,
      "outputs": [
        {
          "output_type": "stream",
          "name": "stdout",
          "text": [
            "1\n",
            "[2, 3, [True, False, True], ['sdasd']]\n",
            "asdasd\n"
          ]
        }
      ]
    },
    {
      "cell_type": "code",
      "source": [
        "fruits = (\"apple\", \"mango\", \"papaya\", \"pineapple\", \"cherry\")\n",
        "\n",
        "(green, *tropic, red) = fruits\n",
        "\n",
        "print(f\"frutas verdes: {green}\")\n",
        "print(f\"frutas tropicales: {tropic}\")\n",
        "print(f\"frutas rojas: {red}\")"
      ],
      "metadata": {
        "colab": {
          "base_uri": "https://localhost:8080/"
        },
        "id": "gHwfFDFBPHth",
        "outputId": "97f5669e-fb35-46ff-d6db-aac4740b4c39"
      },
      "execution_count": 11,
      "outputs": [
        {
          "output_type": "stream",
          "name": "stdout",
          "text": [
            "frutas verdes: apple\n",
            "frutas tropicales: ['mango', 'papaya', 'pineapple']\n",
            "frutas rojas: cherry\n"
          ]
        }
      ]
    },
    {
      "cell_type": "markdown",
      "source": [
        "## EJERCICIO\n",
        ""
      ],
      "metadata": {
        "id": "klGWZG4oQDC0"
      }
    },
    {
      "cell_type": "code",
      "source": [
        "tupla = ([0, 1, 2, 3,] 4, 5,[ 6, 7, 8,] 9, 10, [11, 12, 13, 14,] 15)\n",
        "\n",
        "(item1, *item_varios, item3, item4, item5) = tupla\n",
        "print(item_varios)\n",
        "print(item_varios)\n",
        "print(item[1] [2])"
      ],
      "metadata": {
        "colab": {
          "base_uri": "https://localhost:8080/",
          "height": 106
        },
        "id": "5ODqXN1yRYRW",
        "outputId": "619bd6e1-afb2-453e-ec2f-f1db79155f11"
      },
      "execution_count": 21,
      "outputs": [
        {
          "output_type": "error",
          "ename": "SyntaxError",
          "evalue": "invalid syntax. Perhaps you forgot a comma? (<ipython-input-21-b2aa7cfe98d7>, line 1)",
          "traceback": [
            "\u001b[0;36m  File \u001b[0;32m\"<ipython-input-21-b2aa7cfe98d7>\"\u001b[0;36m, line \u001b[0;32m1\u001b[0m\n\u001b[0;31m    tupla = ([0, 1, 2, 3,] 4, 5,[ 6, 7, 8,] 9, 10, [11, 12, 13, 14,] 15)\u001b[0m\n\u001b[0m             ^\u001b[0m\n\u001b[0;31mSyntaxError\u001b[0m\u001b[0;31m:\u001b[0m invalid syntax. Perhaps you forgot a comma?\n"
          ]
        }
      ]
    },
    {
      "cell_type": "code",
      "source": [
        "tuple_original = (0, 1, 2, 3, 4, 5) ## Es inmutable\n",
        "aux = list(tuple_original) # Es mutable\n",
        "\n",
        "print(tuple_original)\n",
        "print(type(tuple_original))\n",
        "print(type(aux))\n",
        "\n",
        "aux[0] = 1000 #Aquí se modifica un item de la lista auxiliar\n",
        "tuple_original = tuple(aux) #Se vuelve a convertir la lista en tupla\n",
        "\n",
        "print(tuple_original)"
      ],
      "metadata": {
        "colab": {
          "base_uri": "https://localhost:8080/"
        },
        "id": "o8SyTftAWZgo",
        "outputId": "443fadba-5743-4777-aa6e-7fb07be7cec9"
      },
      "execution_count": 25,
      "outputs": [
        {
          "output_type": "stream",
          "name": "stdout",
          "text": [
            "(0, 1, 2, 3, 4, 5)\n",
            "<class 'tuple'>\n",
            "<class 'list'>\n",
            "(1000, 1, 2, 3, 4, 5)\n"
          ]
        }
      ]
    },
    {
      "cell_type": "code",
      "source": [],
      "metadata": {
        "id": "IWGCHsmWX8Sm"
      },
      "execution_count": null,
      "outputs": []
    },
    {
      "cell_type": "markdown",
      "source": [
        "## EJERCICIO\n",
        "escribe un programa que gestione el registro de estudiantes utilizando tuplas cada estudianre tiene los siguientes tipos de datos\n",
        "nombre\n",
        " edad\n",
        " promedio de calificacion\n",
        "#objetivo:#\n",
        "  1. crear una lista de tuplas donde cada tupla representa a ca estudiante\n",
        "  2. mostrar los estudiantes en el registro\n",
        "  3. calcular el promedio general de calificaciones\n",
        "  4. determinar cual estudiantre tiene el mejor promedio\n",
        "  5. agregar nuevos estudiantres al registro\n",
        "\n",
        "\n",
        "  #ejemplo de salida:#\n",
        "  ```txt\n",
        "  USTA SAC\n",
        "\n",
        "  1.consultar listado de estudiante\n",
        "  2. consultar promedio general\n",
        "  3. consultar estudiantes con mejor promedio\n",
        "  4. agregar nuevo registro de estudiante\n",
        "\n",
        "  #pistas:#\n",
        "  1. crear una lista\n",
        "  2. usar ciclo for\n",
        "  3. usar una variable contadora\n",
        "  4. usar una variable comparacón que almacene el registro del usuario con la nota maxima\n",
        "  5. crear una lista con los datos del nuevo estudiante  y convertirlo en tupla para añadirlo al registro\n",
        "  6. usar el unpack tupla"
      ],
      "metadata": {
        "id": "AreQzHFBYrdh"
      }
    },
    {
      "cell_type": "code",
      "source": [
        "\n",
        "students = [ (\"Juan\", 20, 8.5),(\"Maria\", 22, 9.2),(\"Luis\", 21, 7.8)] ## creamos una lista de tres estudiantes con su nombre edad y promedio\n",
        "\n",
        "while True: ## bucle mientras sea verdadero\n",
        "\n",
        "    print(\"1. Consultar listado de estudiantes\") # aca muestra un menú con las opciones que queremos averiguar\n",
        "    print(\"2. Consultar promedio general\")\n",
        "    print(\"3. Consultar estudiante con mejor promedio\")\n",
        "    print(\"4. Agregar nuevo registro de estudiante\")\n",
        "    print(\"5. Salir\")\n",
        "\n",
        "    try:# se pide al usuario que escoga una opcion del menu\n",
        "        choice = int(input(\"Elija una opción: \")) ## eliga una opción\n",
        "\n",
        "    except ValueError:\n",
        "\n",
        "        print(\"Por favor, ingrese un número válido.\") # Si el usuario no ingresa un número válido, muestra un mensaje de error y vuelve al menú\n",
        "        continue\n",
        "\n",
        "    if choice == 1: ## la primer opción es para averiguar listado de estudiante\n",
        "        print(\"Listado de estudiantes:\") ## nombramos lo que va aparecer en opcion uno\n",
        "        for student in students:## para cada estudiante muestra la información nombre edad y promedio\n",
        "            name, age, average = student ## nombre edad promedio del estudiante\n",
        "            print(f\"Nombre: {name}, Edad: {age}, Promedio: {average}\") #imprime nombre edad promedio\n",
        "\n",
        "    elif choice == 2:## SI elige opcion dos\n",
        "        if not students:## si no hay estudiantes\n",
        "            print(\"No hay estudiantes en el registro.\") ## imprime no hay estudiantes en el registro\n",
        "\n",
        "        total = 0 # Comienza una suma para calcular el promedio de todos\n",
        "        for student in students:##para estudiante en estudiante\n",
        "            total += student[2]  ## suma el promedio de estudiantes\n",
        "        total_average = total / len(students) # Calcula el promedio total dividiendo el total entre la cantidad de estudiantes.\n",
        "        print(f\"El promedio general de calificaciones es: {total_average:.2f}\") ## muestra el promedio total de los estudiantes\n",
        "\n",
        "    elif choice == 3:## si elige opción tres\n",
        "        if not students: ## si no hay estudiantes\n",
        "            print(\"No hay estudiantes en el registro.\") ## imprime no hay estudiantes en el registro\n",
        "\n",
        "\n",
        "        best_student = students[0] ## mejor estudiante primero en la lista\n",
        "        for student in students:##para estudiante en estudiante\n",
        "            if student[2] > best_student[2]: ##  # Si encuentra otro estudiante con mejor promedio, lo va a poner  como el mejor.\n",
        "                best_student = student ## mejor estudiante\n",
        "        name, age, average = best_student## muestra información del estudiante con mejor promedio\n",
        "        print(f\"El estudiante con el mejor promedio es {name}, Edad: {age}, Promedio: {average}\")\n",
        "\n",
        "    elif choice == 4:## si elige opción cuatro\n",
        "        try:## intente\n",
        "            name = input(\"Ingrese el nombre del estudiante: \") # Pide al usuario los datos del nuevo estudiante. (nombre)\n",
        "            age = int(input(\"Ingrese la edad del estudiante: \")) # Pide al usuario los datos del nuevo estudiante. (edad)\n",
        "            average = float(input(\"Ingrese el promedio del estudiante: \")) # Pide al usuario los datos del nuevo estudiante. (promedio)\n",
        "\n",
        "            new_student = (name, age, average)  # Crea una nueva informacion con la información del estudiante.\n",
        "            students.append(new_student)  # Agrega el nuevo estudiante a la lista.\n",
        "            print(f\"Estudiante {name} agregado exitosamente.\") ## estudiante agregado\n",
        "\n",
        "\n",
        "        except ValueError:\n",
        "            print(\"Datos inválidos. Intente nuevamente.\")# Si hay un error con la informacion, muestra un mensaje y vuelve al menú\n",
        "\n",
        "    elif choice == 5:## si elige opción cinco\n",
        "\n",
        "        print(\"¡Chaoo!\")## imprime chaoo\n",
        "        break\n",
        "## hace que ejecuta todo\n"
      ],
      "metadata": {
        "colab": {
          "base_uri": "https://localhost:8080/"
        },
        "id": "jW8ncPa3bolM",
        "outputId": "d12764b3-9657-45a2-92e3-39acdce5519e"
      },
      "execution_count": null,
      "outputs": [
        {
          "output_type": "stream",
          "name": "stdout",
          "text": [
            "1. Consultar listado de estudiantes\n",
            "2. Consultar promedio general\n",
            "3. Consultar estudiante con mejor promedio\n",
            "4. Agregar nuevo registro de estudiante\n",
            "5. Salir\n",
            "Elija una opción: opp\n",
            "Por favor, ingrese un número válido.\n",
            "1. Consultar listado de estudiantes\n",
            "2. Consultar promedio general\n",
            "3. Consultar estudiante con mejor promedio\n",
            "4. Agregar nuevo registro de estudiante\n",
            "5. Salir\n",
            "Elija una opción: 6\n",
            "1. Consultar listado de estudiantes\n",
            "2. Consultar promedio general\n",
            "3. Consultar estudiante con mejor promedio\n",
            "4. Agregar nuevo registro de estudiante\n",
            "5. Salir\n"
          ]
        }
      ]
    }
  ],
  "metadata": {
    "colab": {
      "toc_visible": true,
      "provenance": [],
      "include_colab_link": true
    },
    "kernelspec": {
      "display_name": "Python 3",
      "name": "python3"
    }
  },
  "nbformat": 4,
  "nbformat_minor": 0
}