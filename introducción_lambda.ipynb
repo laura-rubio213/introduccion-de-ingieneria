{
  "cells": [
    {
      "cell_type": "markdown",
      "metadata": {
        "id": "view-in-github",
        "colab_type": "text"
      },
      "source": [
        "<a href=\"https://colab.research.google.com/github/laura-rubio213/introduccion-de-ingieneria/blob/main/introducci%C3%B3n_lambda.ipynb\" target=\"_parent\"><img src=\"https://colab.research.google.com/assets/colab-badge.svg\" alt=\"Open In Colab\"/></a>"
      ]
    },
    {
      "cell_type": "markdown",
      "source": [
        "## LAMBDA"
      ],
      "metadata": {
        "id": "WMfv_wQGkuhm"
      }
    },
    {
      "cell_type": "code",
      "source": [
        "def suma(a, b):\n",
        " return a + b\n",
        "\n",
        "def suma(a: int, b: int) -> int:\n",
        "  return a + b\n",
        "print(\"la suma de 3 + 4 es:\", suma(3,4))"
      ],
      "metadata": {
        "id": "0uPCcvWAkxX2",
        "colab": {
          "base_uri": "https://localhost:8080/"
        },
        "outputId": "d6f97c1c-ef05-4f41-d576-92a83407f4ea"
      },
      "execution_count": 2,
      "outputs": [
        {
          "output_type": "stream",
          "name": "stdout",
          "text": [
            "la suma de 3 + 4 es: 7\n"
          ]
        }
      ]
    },
    {
      "cell_type": "code",
      "source": [
        "resultado_suma = lambda a, b: a + b\n",
        "print(\"la suma de 3 + 4:\", resultado_suma(3, 4))"
      ],
      "metadata": {
        "colab": {
          "base_uri": "https://localhost:8080/"
        },
        "id": "y9_2R9MlmUB3",
        "outputId": "3376dbad-0ab5-4470-d2e6-3cc460cd72da"
      },
      "execution_count": 5,
      "outputs": [
        {
          "output_type": "stream",
          "name": "stdout",
          "text": [
            "la suma de 3 + 4: 7\n"
          ]
        }
      ]
    },
    {
      "cell_type": "code",
      "source": [
        "print(\"la suma de 3 + 4:\",(lambda a, b: a + b)(3, 4))"
      ],
      "metadata": {
        "colab": {
          "base_uri": "https://localhost:8080/"
        },
        "id": "vc373Baxmvla",
        "outputId": "4e47a8cf-21c4-4b94-c0e6-ca056b50e1ab"
      },
      "execution_count": 6,
      "outputs": [
        {
          "output_type": "stream",
          "name": "stdout",
          "text": [
            "la suma de 3 + 4: 7\n"
          ]
        }
      ]
    },
    {
      "cell_type": "markdown",
      "source": [
        "## (lambda[parámetros]:expresión)(argumentos)"
      ],
      "metadata": {
        "id": "unVGsvGXm9Ah"
      }
    },
    {
      "cell_type": "code",
      "source": [
        "a = [ 1, 2, 3, 4, 5, 6, 7, 8]\n",
        "square_a = list(map(lambda x: x**2, a))\n",
        "print(a)\n",
        "print(square_a)"
      ],
      "metadata": {
        "colab": {
          "base_uri": "https://localhost:8080/"
        },
        "id": "FpFA1FXem7gs",
        "outputId": "fabade3c-d7db-4c60-c55d-e9ce06edd1c4"
      },
      "execution_count": 7,
      "outputs": [
        {
          "output_type": "stream",
          "name": "stdout",
          "text": [
            "[1, 2, 3, 4, 5, 6, 7, 8]\n",
            "[1, 4, 9, 16, 25, 36, 49, 64]\n"
          ]
        }
      ]
    },
    {
      "cell_type": "markdown",
      "source": [
        "## FILTER\n",
        "\n",
        "filter((función aplicar,{objetos iterables}))"
      ],
      "metadata": {
        "id": "9N7ylXvboLe6"
      }
    },
    {
      "cell_type": "code",
      "source": [
        "def is_adult(n):\n",
        "  if n > 18:\n",
        "    return True\n",
        "  else:\n",
        "    return False\n",
        "\n",
        "ages = [34, 45, 17, 15, 88, 19]\n",
        "\n",
        "for i in filter(is_adult, ages):\n",
        "  print(i, end=\" \")"
      ],
      "metadata": {
        "colab": {
          "base_uri": "https://localhost:8080/"
        },
        "id": "ACzAr8k8nKCq",
        "outputId": "3aece06f-bee0-48e2-ab0a-008ebe5b06a2"
      },
      "execution_count": 8,
      "outputs": [
        {
          "output_type": "stream",
          "name": "stdout",
          "text": [
            "34 45 88 19 "
          ]
        }
      ]
    },
    {
      "cell_type": "code",
      "source": [
        "ages = [34, 45, 17, 15, 88, 19]\n",
        "\n",
        "for i in filter(lambda x: x > 18, ages):\n",
        "  print(i, end=\" \")"
      ],
      "metadata": {
        "colab": {
          "base_uri": "https://localhost:8080/"
        },
        "id": "bqHcAlpzpkS0",
        "outputId": "f9169013-7f9f-4797-f230-4531a76b166d"
      },
      "execution_count": 9,
      "outputs": [
        {
          "output_type": "stream",
          "name": "stdout",
          "text": [
            "34 45 88 19 "
          ]
        }
      ]
    },
    {
      "cell_type": "markdown",
      "source": [
        "## MAP\n",
        "map(función a aplicar(objeto iterable))\n",
        ""
      ],
      "metadata": {
        "id": "ZcsFst_-qJWV"
      }
    },
    {
      "cell_type": "code",
      "source": [
        "def square(x):\n",
        "  return x**2\n",
        "\n",
        "a = [1, 2, 3, 4, 5, 6, 7, 8]\n",
        "square_a = list(map(square, a))\n",
        "print(a)\n",
        "print(square_a)"
      ],
      "metadata": {
        "colab": {
          "base_uri": "https://localhost:8080/"
        },
        "id": "Gz6-dB46qbh3",
        "outputId": "d8c035a5-56a3-4fce-f091-5df169b52be0"
      },
      "execution_count": 10,
      "outputs": [
        {
          "output_type": "stream",
          "name": "stdout",
          "text": [
            "[1, 2, 3, 4, 5, 6, 7, 8]\n",
            "[1, 4, 9, 16, 25, 36, 49, 64]\n"
          ]
        }
      ]
    },
    {
      "cell_type": "code",
      "source": [
        "a = [9, 8, 7, 6, 5, 4, 3, 2, 1, 0]\n",
        "square_a = list(map(lambda x: x**2, a))\n",
        "\n",
        "print(square_a)"
      ],
      "metadata": {
        "colab": {
          "base_uri": "https://localhost:8080/"
        },
        "id": "z1ONUk2LqoTx",
        "outputId": "387f1585-97f3-4ea5-9e99-8f068991ad2f"
      },
      "execution_count": 13,
      "outputs": [
        {
          "output_type": "stream",
          "name": "stdout",
          "text": [
            "[81, 64, 49, 36, 25, 16, 9, 4, 1, 0]\n"
          ]
        }
      ]
    },
    {
      "cell_type": "code",
      "source": [
        "a = [9, 8, 7, 6, 5, 4, 3, 2, 1, 0]\n",
        "square_a =[]\n",
        "\n",
        "for x in a:\n",
        "  square_a.append(x**2)\n",
        "\n",
        "print(square_a)"
      ],
      "metadata": {
        "colab": {
          "base_uri": "https://localhost:8080/"
        },
        "id": "YOBckv3crQeS",
        "outputId": "9e4caa7e-dc5b-4ef6-b2d5-c35d425567d0"
      },
      "execution_count": 16,
      "outputs": [
        {
          "output_type": "stream",
          "name": "stdout",
          "text": [
            "[81, 64, 49, 36, 25, 16, 9, 4, 1, 0]\n"
          ]
        }
      ]
    },
    {
      "cell_type": "markdown",
      "source": [
        "## reduce\n",
        "reduce((función a aplicar(objeto iterable))"
      ],
      "metadata": {
        "id": "uLu9ApIqr_Yx"
      }
    },
    {
      "cell_type": "code",
      "source": [
        "from functools import reduce\n",
        "\n",
        "a = [1, 2, 3, 4, 5]\n",
        "n = reduce(lambda x, y: x + y, a)\n",
        "print(n)\n"
      ],
      "metadata": {
        "colab": {
          "base_uri": "https://localhost:8080/"
        },
        "id": "fvBmvssVsKpn",
        "outputId": "cf608402-e064-4b8b-d880-df45dda583f1"
      },
      "execution_count": 19,
      "outputs": [
        {
          "output_type": "stream",
          "name": "stdout",
          "text": [
            "15\n"
          ]
        }
      ]
    },
    {
      "cell_type": "markdown",
      "source": [
        "*Explicacón codigo anterior*\n",
        "\n",
        "- 1 + 2 = 3\n",
        "- 3 + 3 = 6\n",
        "- 6 + 4 = 10\n",
        "- 10 + 5 = 15"
      ],
      "metadata": {
        "id": "vXJsg23QtJLW"
      }
    },
    {
      "cell_type": "code",
      "source": [
        "a = [1, 2, 3, 4, 5, 6, 7, 8, 9]\n",
        "suma = reduce(lambda x, y, z: x + y + z, a)\n",
        "print(a)\n",
        "print(suma)"
      ],
      "metadata": {
        "id": "3f0HTScyswiU"
      },
      "execution_count": null,
      "outputs": []
    },
    {
      "cell_type": "markdown",
      "source": [
        "## Ejercicio uno\n",
        "\n",
        "Ahi una lista de elementos llamada 'n_list = [1, 2, 3, 4, 5, 6, 7, 8, 9, 10]' retorna una lista llamada 'even_list',  la cual solo contiene los numero pares de 'n_list'.\n",
        "\n",
        "Para este ejemplo la respuesta esperada es 'even_list = [2, 4, 6, 8, 10]\n",
        "\n",
        "*Pista*\n",
        "Usa las funciones lambda y filte"
      ],
      "metadata": {
        "id": "13lGDJntvmef"
      }
    },
    {
      "cell_type": "code",
      "source": [
        "n_list = [1, 2, 3, 4, 5, 6, 7, 8, 9, 10]\n",
        "even_list = list(filter(lambda x: x % 2 == 0, n_list))\n",
        "\n",
        "print(even_list)"
      ],
      "metadata": {
        "colab": {
          "base_uri": "https://localhost:8080/"
        },
        "id": "Em3g-JgMw9sH",
        "outputId": "c257afe3-eb00-4069-df2e-f3310bb14c11"
      },
      "execution_count": 20,
      "outputs": [
        {
          "output_type": "stream",
          "name": "stdout",
          "text": [
            "[2, 4, 6, 8, 10]\n"
          ]
        }
      ]
    },
    {
      "cell_type": "markdown",
      "source": [
        "## EJERCICIO DOS\n",
        "\n",
        "escribe una funcion map que convierta la variable a_list, que contiene el alfabeto en minuscula [a, b, c, d, e, f, g, h, i, j] y la convierte en la variable upper_list, que contiene el alfabeto en mayuscula ['A','B', 'C', 'D', 'E', 'F', 'G', 'H', I].  También defina una función llamada to_upper que reciba las letras en minúscula como parámetros y las retorne como letras mayúsculas"
      ],
      "metadata": {
        "id": "jKb9BaZ_vdff"
      }
    },
    {
      "cell_type": "code",
      "source": [
        "def to_upper():\n",
        "  x = input(\"Ingrese las letras a convertir: \")\n",
        "  x = x.upper()\n",
        "  return list(x)\n",
        "\n",
        "a_list = ['a', 'b', 'c', 'd', 'e', 'f', 'g', 'h', 'i']\n",
        "upper_list = list(map(lambda x: x.upper(), a_list))\n",
        "print(upper_list)\n",
        "\n",
        "to_upper()"
      ],
      "metadata": {
        "colab": {
          "base_uri": "https://localhost:8080/"
        },
        "id": "Tbo2xlSB1_MJ",
        "outputId": "177c0311-b22d-45e7-b932-99fc8ab71f3e"
      },
      "execution_count": 40,
      "outputs": [
        {
          "name": "stdout",
          "output_type": "stream",
          "text": [
            "['A', 'B', 'C', 'D', 'E', 'F', 'G', 'H', 'I']\n",
            "Ingrese las letras a convertir: laura\n"
          ]
        },
        {
          "output_type": "execute_result",
          "data": {
            "text/plain": [
              "['L', 'A', 'U', 'R', 'A']"
            ]
          },
          "metadata": {},
          "execution_count": 40
        }
      ]
    },
    {
      "cell_type": "markdown",
      "source": [
        "## EJERCICIO TRES\n",
        "\n",
        "Calcule la suma de enteros de 1 a 100 usadno la función reduce y la expresión lambda dentro de ella. Use como entrada range (1, 101)\n",
        "\n",
        "Para este ejemplo, la respuesta esperada es:\n",
        "La suma de 1 a 100 es: 5050"
      ],
      "metadata": {
        "id": "_VQ1pjtiwcLL"
      }
    },
    {
      "cell_type": "code",
      "source": [
        "from functools import reduce\n",
        "\n",
        "sum_result = reduce(lambda x, y: x + y, range(1, 101))\n",
        "\n",
        "print(f\"La suma de 1 a 100 es: {sum_result}\")"
      ],
      "metadata": {
        "colab": {
          "base_uri": "https://localhost:8080/"
        },
        "id": "_y5XkNneu70v",
        "outputId": "8890e796-7b19-49ff-b121-c098140f558d"
      },
      "execution_count": 24,
      "outputs": [
        {
          "output_type": "stream",
          "name": "stdout",
          "text": [
            "La suma de 1 a 100 es: 5050\n"
          ]
        }
      ]
    },
    {
      "cell_type": "markdown",
      "source": [
        "## comprensión de listas"
      ],
      "metadata": {
        "id": "PmoD9Xe58XJR"
      }
    },
    {
      "cell_type": "markdown",
      "source": [
        " ## EJERCICIO\n",
        "1. Lista de números de 0 a 9\n",
        "2. Listado del valor al cuadrado de los números entre 0 y 9\n",
        "3. Listado de números pares entre 0 y 9\n",
        "4. Listado de números impares entre 0 y 9\n",
        "5. Listado de números pares entre -99 y -50\n",
        "6. Listado de números impares entre -99 y -50\n",
        "7. LIstado de números impares entre 15 y 35 usando range\n",
        "8. Listado de números pares entre 35 y 55 usando range\n",
        "9. Listado de números pares al cuadrado entre 505 y 600\n",
        "10. Listado de números impares al cuadrado entre -1010 y -935"
      ],
      "metadata": {
        "id": "FcJzyGY-BTUh"
      }
    },
    {
      "cell_type": "code",
      "source": [
        " #1\n",
        "numeros = list(range(10))\n",
        "print(numeros)\n"
      ],
      "metadata": {
        "colab": {
          "base_uri": "https://localhost:8080/"
        },
        "id": "t-whRaX29Zkw",
        "outputId": "3a00fb5e-5459-415e-ece3-00a934eafb97"
      },
      "execution_count": 45,
      "outputs": [
        {
          "output_type": "stream",
          "name": "stdout",
          "text": [
            "[0, 1, 2, 3, 4, 5, 6, 7, 8, 9]\n"
          ]
        }
      ]
    },
    {
      "cell_type": "code",
      "source": [
        "#2\n",
        "valor_cuadrados = [i**2 for i in range(10)]\n",
        "print(valor_cuadrados)"
      ],
      "metadata": {
        "colab": {
          "base_uri": "https://localhost:8080/"
        },
        "id": "4JMKeu3V_cW-",
        "outputId": "71fcf6ff-93d1-4a6a-9024-3b525fee8e19"
      },
      "execution_count": 47,
      "outputs": [
        {
          "output_type": "stream",
          "name": "stdout",
          "text": [
            "[0, 1, 4, 9, 16, 25, 36, 49, 64, 81]\n"
          ]
        }
      ]
    },
    {
      "cell_type": "code",
      "source": [
        "#3\n",
        "numeros_pares = [i for i in range(10) if i % 2 == 0]\n",
        "print(numeros_pares)"
      ],
      "metadata": {
        "colab": {
          "base_uri": "https://localhost:8080/"
        },
        "id": "XC2abVcR_cTT",
        "outputId": "9c5c70a0-7e3c-4863-c69e-aacf7d6f06a5"
      },
      "execution_count": 49,
      "outputs": [
        {
          "output_type": "stream",
          "name": "stdout",
          "text": [
            "[0, 2, 4, 6, 8]\n"
          ]
        }
      ]
    },
    {
      "cell_type": "code",
      "source": [
        "# 4\n",
        "numeros_impares = [i for i in range(10) if i % 2 != 0]\n",
        "print(numeros_impares)"
      ],
      "metadata": {
        "colab": {
          "base_uri": "https://localhost:8080/"
        },
        "id": "363T6_jk_cOa",
        "outputId": "dc5ac03b-364c-48ae-ede5-ee1afeea7f1e"
      },
      "execution_count": 51,
      "outputs": [
        {
          "output_type": "stream",
          "name": "stdout",
          "text": [
            "[1, 3, 5, 7, 9]\n"
          ]
        }
      ]
    },
    {
      "cell_type": "code",
      "source": [
        "#5\n",
        "numeros_pares = [i for i in range(-99, -49) if i % 2 == 0]\n",
        "print(numeros_pares)"
      ],
      "metadata": {
        "colab": {
          "base_uri": "https://localhost:8080/"
        },
        "id": "QvNudCgaB-_z",
        "outputId": "14870fbb-bdff-4934-875b-5c2fb88a5882"
      },
      "execution_count": 52,
      "outputs": [
        {
          "output_type": "stream",
          "name": "stdout",
          "text": [
            "[-98, -96, -94, -92, -90, -88, -86, -84, -82, -80, -78, -76, -74, -72, -70, -68, -66, -64, -62, -60, -58, -56, -54, -52, -50]\n"
          ]
        }
      ]
    },
    {
      "cell_type": "code",
      "source": [
        "#6\n",
        "numeros_impares = [i for i in range(-99, -49) if i % 2 != 0]\n",
        "print(numeros_impares)"
      ],
      "metadata": {
        "colab": {
          "base_uri": "https://localhost:8080/"
        },
        "id": "Mb8heL1JCHFP",
        "outputId": "c0356b97-0333-4d24-ebdd-ca1f7969c890"
      },
      "execution_count": 53,
      "outputs": [
        {
          "output_type": "stream",
          "name": "stdout",
          "text": [
            "[-99, -97, -95, -93, -91, -89, -87, -85, -83, -81, -79, -77, -75, -73, -71, -69, -67, -65, -63, -61, -59, -57, -55, -53, -51]\n"
          ]
        }
      ]
    },
    {
      "cell_type": "code",
      "source": [
        "#7\n",
        "numeros_impares = [i for i in range(15, 35) if i % 2 != 0]\n",
        "print(numeros_impares)"
      ],
      "metadata": {
        "colab": {
          "base_uri": "https://localhost:8080/"
        },
        "id": "S_lQVyWCCSOk",
        "outputId": "91cc0f37-cefb-43d1-8f29-6d18379c3022"
      },
      "execution_count": 54,
      "outputs": [
        {
          "output_type": "stream",
          "name": "stdout",
          "text": [
            "[15, 17, 19, 21, 23, 25, 27, 29, 31, 33]\n"
          ]
        }
      ]
    },
    {
      "cell_type": "code",
      "source": [
        "#8\n",
        "numeros_pares = [i for i in range(35, 55) if i % 2 == 0]\n",
        "print(numeros_pares)\n"
      ],
      "metadata": {
        "colab": {
          "base_uri": "https://localhost:8080/"
        },
        "id": "CcGvesaZCXnm",
        "outputId": "ac2aaac7-6c58-406f-ba58-beeb6761a5c8"
      },
      "execution_count": 56,
      "outputs": [
        {
          "output_type": "stream",
          "name": "stdout",
          "text": [
            "[36, 38, 40, 42, 44, 46, 48, 50, 52, 54]\n"
          ]
        }
      ]
    },
    {
      "cell_type": "code",
      "source": [
        "#9\n",
        "numeros_pares = [i**2 for i in range(505, 600) if i % 2 == 0]\n",
        "print(numeros_pares)"
      ],
      "metadata": {
        "colab": {
          "base_uri": "https://localhost:8080/"
        },
        "id": "HLEdbuAPCcvL",
        "outputId": "6eca3b07-53d9-4430-abb5-b18bdfe72a27"
      },
      "execution_count": 57,
      "outputs": [
        {
          "output_type": "stream",
          "name": "stdout",
          "text": [
            "[256036, 258064, 260100, 262144, 264196, 266256, 268324, 270400, 272484, 274576, 276676, 278784, 280900, 283024, 285156, 287296, 289444, 291600, 293764, 295936, 298116, 300304, 302500, 304704, 306916, 309136, 311364, 313600, 315844, 318096, 320356, 322624, 324900, 327184, 329476, 331776, 334084, 336400, 338724, 341056, 343396, 345744, 348100, 350464, 352836, 355216, 357604]\n"
          ]
        }
      ]
    },
    {
      "cell_type": "code",
      "source": [
        "#10\n",
        "numeros_impares_cuadrados = [i**2 for i in range(-1010, -934) if i % 2 != 0]\n",
        "print(numeros_impares_cuadrados)"
      ],
      "metadata": {
        "colab": {
          "base_uri": "https://localhost:8080/"
        },
        "id": "1uyzUOvWCgOF",
        "outputId": "277c0ef6-ef14-4291-f93e-cb7d6af5ed80"
      },
      "execution_count": 58,
      "outputs": [
        {
          "output_type": "stream",
          "name": "stdout",
          "text": [
            "[1018081, 1014049, 1010025, 1006009, 1002001, 998001, 994009, 990025, 986049, 982081, 978121, 974169, 970225, 966289, 962361, 958441, 954529, 950625, 946729, 942841, 938961, 935089, 931225, 927369, 923521, 919681, 915849, 912025, 908209, 904401, 900601, 896809, 893025, 889249, 885481, 881721, 877969, 874225]\n"
          ]
        }
      ]
    },
    {
      "cell_type": "markdown",
      "source": [],
      "metadata": {
        "id": "P4Bf4S3gKNI4"
      }
    }
  ],
  "metadata": {
    "colab": {
      "toc_visible": true,
      "provenance": [],
      "include_colab_link": true
    },
    "kernelspec": {
      "display_name": "Python 3",
      "name": "python3"
    }
  },
  "nbformat": 4,
  "nbformat_minor": 0
}